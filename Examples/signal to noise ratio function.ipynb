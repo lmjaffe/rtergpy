{
 "cells": [
  {
   "cell_type": "code",
   "execution_count": 1,
   "id": "3999037d",
   "metadata": {},
   "outputs": [],
   "source": [
    "from obspy import read, read_inventory, UTCDateTime\n",
    "from obspy.geodetics import locations2degrees\n",
    "from obspy.clients.fdsn import Client\n",
    "import matplotlib.pyplot as plt\n",
    "import numpy as np"
   ]
  },
  {
   "cell_type": "code",
   "execution_count": 2,
   "id": "2a380e54",
   "metadata": {},
   "outputs": [
    {
     "name": "stdout",
     "output_type": "stream",
     "text": [
      "[[[0.00333333, 2.0], [0.5, 2.0]], [-60, 300], 1]\n"
     ]
    }
   ],
   "source": [
    "from rtergpy.run import defaults,event\n",
    "from rtergpy.waveforms import theorPinfo,getwaves\n",
    "\n",
    "Defaults=defaults()\n",
    "Event=event()\n",
    "Defaults.src=\"RASPISHAKE\"\n",
    "Defaults.network='AM'\n",
    "Defaults.chan=\"EHZ\"\n",
    "Defaults.stationrange=[25,80]\n",
    "station='SF4A5'\n",
    "\n",
    "Event.origin=[[-14.8628,-70.3081,217.83],UTCDateTime(2022,5,26,12,2,20)]\n",
    "print(Defaults.waveparams)"
   ]
  },
  {
   "cell_type": "code",
   "execution_count": 3,
   "id": "3fed0b53",
   "metadata": {},
   "outputs": [
    {
     "name": "stdout",
     "output_type": "stream",
     "text": [
      "ERROR:  coudn't move directory to  /Users/leahjaffe/Desktop/Rtergpy/rterg_events/2022/2021092900/00.bak\n",
      "Error:  Couldn't create directory:  /Users/leahjaffe/Desktop/Rtergpy/rterg_events/2022/2021092900/00\n",
      "Checking for stations available within range from IRIS\n",
      "Getting waves from RASPISHAKE\n"
     ]
    },
    {
     "name": "stderr",
     "output_type": "stream",
     "text": [
      "  3%|█▏                                        | 20/725 [00:17<07:56,  1.48it/s]"
     ]
    },
    {
     "name": "stdout",
     "output_type": "stream",
     "text": [
      "AM.R0617.00.EHZ failed to download. Continuing..\n"
     ]
    },
    {
     "name": "stderr",
     "output_type": "stream",
     "text": [
      "  3%|█▎                                        | 22/725 [00:19<07:45,  1.51it/s]"
     ]
    },
    {
     "name": "stdout",
     "output_type": "stream",
     "text": [
      "AM.R068D.00.EHZ failed to download. Continuing..\n"
     ]
    },
    {
     "name": "stderr",
     "output_type": "stream",
     "text": [
      "  3%|█▍                                        | 25/725 [00:21<07:45,  1.50it/s]"
     ]
    },
    {
     "name": "stdout",
     "output_type": "stream",
     "text": [
      "AM.R07B6.00.EHZ failed to download. Continuing..\n"
     ]
    },
    {
     "name": "stderr",
     "output_type": "stream",
     "text": [
      "  5%|█▉                                        | 33/725 [00:27<07:53,  1.46it/s]"
     ]
    },
    {
     "name": "stdout",
     "output_type": "stream",
     "text": [
      "AM.R0A3C.00.EHZ failed to download. Continuing..\n"
     ]
    },
    {
     "name": "stderr",
     "output_type": "stream",
     "text": [
      "  6%|██▎                                       | 40/725 [00:32<07:58,  1.43it/s]"
     ]
    },
    {
     "name": "stdout",
     "output_type": "stream",
     "text": [
      "AM.R0CBB.00.EHZ failed to download. Continuing..\n"
     ]
    },
    {
     "name": "stderr",
     "output_type": "stream",
     "text": [
      "  7%|███                                       | 53/725 [00:42<08:00,  1.40it/s]"
     ]
    },
    {
     "name": "stdout",
     "output_type": "stream",
     "text": [
      "AM.R0FA6.00.EHZ failed to download. Continuing..\n"
     ]
    },
    {
     "name": "stderr",
     "output_type": "stream",
     "text": [
      "\r",
      "  7%|███▏                                      | 54/725 [00:42<07:24,  1.51it/s]"
     ]
    },
    {
     "name": "stdout",
     "output_type": "stream",
     "text": [
      "AM.R1041.00.EHZ failed to download. Continuing..\n"
     ]
    },
    {
     "name": "stderr",
     "output_type": "stream",
     "text": [
      " 14%|█████▋                                    | 99/725 [01:21<07:29,  1.39it/s]"
     ]
    },
    {
     "name": "stdout",
     "output_type": "stream",
     "text": [
      "AM.R20F3.00.EHZ failed to download. Continuing..\n"
     ]
    },
    {
     "name": "stderr",
     "output_type": "stream",
     "text": [
      " 18%|███████▏                                 | 127/725 [01:42<07:06,  1.40it/s]"
     ]
    },
    {
     "name": "stdout",
     "output_type": "stream",
     "text": [
      "AM.R2A59.00.EHZ failed to download. Continuing..\n"
     ]
    },
    {
     "name": "stderr",
     "output_type": "stream",
     "text": [
      " 18%|███████▍                                 | 131/725 [01:45<06:52,  1.44it/s]"
     ]
    },
    {
     "name": "stdout",
     "output_type": "stream",
     "text": [
      "AM.R2D11.00.EHZ failed to download. Continuing..\n"
     ]
    },
    {
     "name": "stderr",
     "output_type": "stream",
     "text": [
      " 21%|████████▌                                | 151/725 [02:00<06:46,  1.41it/s]"
     ]
    },
    {
     "name": "stdout",
     "output_type": "stream",
     "text": [
      "AM.R325B.00.EHZ failed to download. Continuing..\n"
     ]
    },
    {
     "name": "stderr",
     "output_type": "stream",
     "text": [
      "\r",
      " 21%|████████▌                                | 152/725 [02:01<06:17,  1.52it/s]"
     ]
    },
    {
     "name": "stdout",
     "output_type": "stream",
     "text": [
      "AM.R3302.00.EHZ failed to download. Continuing..\n"
     ]
    },
    {
     "name": "stderr",
     "output_type": "stream",
     "text": [
      " 21%|████████▋                                | 154/725 [02:02<06:18,  1.51it/s]"
     ]
    },
    {
     "name": "stdout",
     "output_type": "stream",
     "text": [
      "AM.R3398.00.EHZ failed to download. Continuing..\n"
     ]
    },
    {
     "name": "stderr",
     "output_type": "stream",
     "text": [
      " 22%|████████▉                                | 159/725 [02:06<06:27,  1.46it/s]"
     ]
    },
    {
     "name": "stdout",
     "output_type": "stream",
     "text": [
      "AM.R3542.00.EHZ failed to download. Continuing..\n"
     ]
    },
    {
     "name": "stderr",
     "output_type": "stream",
     "text": [
      " 24%|█████████▉                               | 175/725 [02:18<06:37,  1.38it/s]"
     ]
    },
    {
     "name": "stdout",
     "output_type": "stream",
     "text": [
      "AM.R3AE0.00.EHZ failed to download. Continuing..\n"
     ]
    },
    {
     "name": "stderr",
     "output_type": "stream",
     "text": [
      " 28%|███████████▍                             | 202/725 [02:48<08:07,  1.07it/s]"
     ]
    },
    {
     "name": "stdout",
     "output_type": "stream",
     "text": [
      "AM.R44A9.00.EHZ failed to download. Continuing..\n"
     ]
    },
    {
     "name": "stderr",
     "output_type": "stream",
     "text": [
      " 31%|████████████▌                            | 223/725 [03:07<05:43,  1.46it/s]"
     ]
    },
    {
     "name": "stdout",
     "output_type": "stream",
     "text": [
      "AM.R4D0A.00.EHZ failed to download. Continuing..\n"
     ]
    },
    {
     "name": "stderr",
     "output_type": "stream",
     "text": [
      " 31%|████████████▋                            | 225/725 [03:08<05:32,  1.50it/s]"
     ]
    },
    {
     "name": "stdout",
     "output_type": "stream",
     "text": [
      "AM.R4DBF.00.EHZ failed to download. Continuing..\n"
     ]
    },
    {
     "name": "stderr",
     "output_type": "stream",
     "text": [
      " 32%|█████████████                            | 231/725 [03:13<06:50,  1.20it/s]"
     ]
    },
    {
     "name": "stdout",
     "output_type": "stream",
     "text": [
      "AM.R4F29.00.EHZ failed to download. Continuing..\n"
     ]
    },
    {
     "name": "stderr",
     "output_type": "stream",
     "text": [
      " 32%|█████████████▏                           | 233/725 [03:15<06:39,  1.23it/s]"
     ]
    },
    {
     "name": "stdout",
     "output_type": "stream",
     "text": [
      "AM.R4F78.00.EHZ failed to download. Continuing..\n"
     ]
    },
    {
     "name": "stderr",
     "output_type": "stream",
     "text": [
      " 32%|█████████████▎                           | 235/725 [03:16<05:55,  1.38it/s]"
     ]
    },
    {
     "name": "stdout",
     "output_type": "stream",
     "text": [
      "AM.R50A5.00.EHZ failed to download. Continuing..\n"
     ]
    },
    {
     "name": "stderr",
     "output_type": "stream",
     "text": [
      " 35%|██████████████▍                          | 255/725 [03:31<05:29,  1.43it/s]"
     ]
    },
    {
     "name": "stdout",
     "output_type": "stream",
     "text": [
      "AM.R584C.00.EHZ failed to download. Continuing..\n"
     ]
    },
    {
     "name": "stderr",
     "output_type": "stream",
     "text": [
      " 36%|██████████████▌                          | 258/725 [03:33<05:11,  1.50it/s]"
     ]
    },
    {
     "name": "stdout",
     "output_type": "stream",
     "text": [
      "AM.R5B18.00.EHZ failed to download. Continuing..\n"
     ]
    },
    {
     "name": "stderr",
     "output_type": "stream",
     "text": [
      "\r",
      " 36%|██████████████▋                          | 259/725 [03:34<04:53,  1.59it/s]"
     ]
    },
    {
     "name": "stdout",
     "output_type": "stream",
     "text": [
      "AM.R5BCA.00.EHZ failed to download. Continuing..\n"
     ]
    },
    {
     "name": "stderr",
     "output_type": "stream",
     "text": [
      " 37%|███████████████                          | 266/725 [03:41<05:51,  1.31it/s]"
     ]
    },
    {
     "name": "stdout",
     "output_type": "stream",
     "text": [
      "AM.R5E2B.00.EHZ failed to download. Continuing..\n"
     ]
    },
    {
     "name": "stderr",
     "output_type": "stream",
     "text": [
      " 39%|████████████████▏                        | 286/725 [03:57<05:50,  1.25it/s]/Users/leahjaffe/opt/anaconda3/envs/rtergpy/lib/python3.9/site-packages/obspy/core/inventory/network.py:319: UserWarning: Found more than one matching channel metadata. Returning first.\n",
      "  warnings.warn(msg)\n",
      " 40%|████████████████▌                        | 292/725 [04:07<09:02,  1.25s/it]"
     ]
    },
    {
     "name": "stdout",
     "output_type": "stream",
     "text": [
      "AM.R669E.00.EHZ failed to download. Continuing..\n"
     ]
    },
    {
     "name": "stderr",
     "output_type": "stream",
     "text": [
      " 42%|█████████████████▎                       | 306/725 [04:17<04:52,  1.43it/s]"
     ]
    },
    {
     "name": "stdout",
     "output_type": "stream",
     "text": [
      "AM.R6C7D.00.EHZ failed to download. Continuing..\n"
     ]
    },
    {
     "name": "stderr",
     "output_type": "stream",
     "text": [
      " 44%|██████████████████▏                      | 322/725 [04:29<04:41,  1.43it/s]"
     ]
    },
    {
     "name": "stdout",
     "output_type": "stream",
     "text": [
      "AM.R7143.00.EHZ failed to download. Continuing..\n"
     ]
    },
    {
     "name": "stderr",
     "output_type": "stream",
     "text": [
      " 45%|██████████████████▍                      | 325/725 [04:32<06:06,  1.09it/s]"
     ]
    },
    {
     "name": "stdout",
     "output_type": "stream",
     "text": [
      "AM.R7356.00.EHZ failed to download. Continuing..\n"
     ]
    },
    {
     "name": "stderr",
     "output_type": "stream",
     "text": [
      " 46%|██████████████████▊                      | 333/725 [04:38<04:40,  1.40it/s]"
     ]
    },
    {
     "name": "stdout",
     "output_type": "stream",
     "text": [
      "AM.R755E.00.EHZ failed to download. Continuing..\n"
     ]
    },
    {
     "name": "stderr",
     "output_type": "stream",
     "text": [
      " 47%|███████████████████▍                     | 343/725 [04:51<05:45,  1.11it/s]"
     ]
    },
    {
     "name": "stdout",
     "output_type": "stream",
     "text": [
      "AM.R79FF.00.EHZ failed to download. Continuing..\n"
     ]
    },
    {
     "name": "stderr",
     "output_type": "stream",
     "text": [
      " 49%|████████████████████▏                    | 357/725 [05:03<04:36,  1.33it/s]"
     ]
    },
    {
     "name": "stdout",
     "output_type": "stream",
     "text": [
      "AM.R7FE6.00.EHZ failed to download. Continuing..\n"
     ]
    },
    {
     "name": "stderr",
     "output_type": "stream",
     "text": [
      "\r",
      " 49%|████████████████████▏                    | 358/725 [05:04<05:41,  1.07it/s]"
     ]
    },
    {
     "name": "stdout",
     "output_type": "stream",
     "text": [
      "AM.R7FE8.00.EHZ failed to download. Continuing..\n"
     ]
    },
    {
     "name": "stderr",
     "output_type": "stream",
     "text": [
      " 50%|████████████████████▎                    | 360/725 [05:05<04:39,  1.31it/s]"
     ]
    },
    {
     "name": "stdout",
     "output_type": "stream",
     "text": [
      "AM.R804D.00.EHZ failed to download. Continuing..\n"
     ]
    },
    {
     "name": "stderr",
     "output_type": "stream",
     "text": [
      "\r",
      " 50%|████████████████████▍                    | 361/725 [05:06<04:13,  1.43it/s]"
     ]
    },
    {
     "name": "stdout",
     "output_type": "stream",
     "text": [
      "AM.R80C2.00.EHZ failed to download. Continuing..\n"
     ]
    },
    {
     "name": "stderr",
     "output_type": "stream",
     "text": [
      "\r",
      " 50%|████████████████████▍                    | 362/725 [05:09<08:38,  1.43s/it]"
     ]
    },
    {
     "name": "stdout",
     "output_type": "stream",
     "text": [
      "AM.R8117.00.EHZ failed to download. Continuing..\n"
     ]
    },
    {
     "name": "stderr",
     "output_type": "stream",
     "text": [
      " 51%|█████████████████████                    | 372/725 [05:17<04:18,  1.36it/s]"
     ]
    },
    {
     "name": "stdout",
     "output_type": "stream",
     "text": [
      "AM.R858B.00.EHZ failed to download. Continuing..\n"
     ]
    },
    {
     "name": "stderr",
     "output_type": "stream",
     "text": [
      " 53%|█████████████████████▊                   | 385/725 [05:27<04:18,  1.32it/s]"
     ]
    },
    {
     "name": "stdout",
     "output_type": "stream",
     "text": [
      "AM.R8CC8.00.EHZ failed to download. Continuing..\n"
     ]
    },
    {
     "name": "stderr",
     "output_type": "stream",
     "text": [
      " 58%|███████████████████████▋                 | 418/725 [06:01<03:40,  1.39it/s]"
     ]
    },
    {
     "name": "stdout",
     "output_type": "stream",
     "text": [
      "AM.R976A.00.EHZ failed to download. Continuing..\n"
     ]
    },
    {
     "name": "stderr",
     "output_type": "stream",
     "text": [
      " 64%|██████████████████████████▏              | 462/725 [06:37<03:04,  1.42it/s]"
     ]
    },
    {
     "name": "stdout",
     "output_type": "stream",
     "text": [
      "AM.RAA22.00.EHZ failed to download. Continuing..\n"
     ]
    },
    {
     "name": "stderr",
     "output_type": "stream",
     "text": [
      " 65%|██████████████████████████▌              | 469/725 [06:42<02:58,  1.44it/s]"
     ]
    },
    {
     "name": "stdout",
     "output_type": "stream",
     "text": [
      "AM.RAB72.00.EHZ failed to download. Continuing..\n"
     ]
    },
    {
     "name": "stderr",
     "output_type": "stream",
     "text": [
      " 66%|███████████████████████████              | 478/725 [06:49<02:56,  1.40it/s]"
     ]
    },
    {
     "name": "stdout",
     "output_type": "stream",
     "text": [
      "AM.RAE6A.00.EHZ failed to download. Continuing..\n"
     ]
    },
    {
     "name": "stderr",
     "output_type": "stream",
     "text": [
      " 68%|███████████████████████████▊             | 491/725 [07:07<02:54,  1.34it/s]"
     ]
    },
    {
     "name": "stdout",
     "output_type": "stream",
     "text": [
      "AM.RB434.00.EHZ failed to download. Continuing..\n"
     ]
    },
    {
     "name": "stderr",
     "output_type": "stream",
     "text": [
      " 74%|██████████████████████████████▎          | 535/725 [07:45<02:10,  1.46it/s]"
     ]
    },
    {
     "name": "stdout",
     "output_type": "stream",
     "text": [
      "AM.RC30B.00.EHZ failed to download. Continuing..\n"
     ]
    },
    {
     "name": "stderr",
     "output_type": "stream",
     "text": [
      " 75%|██████████████████████████████▉          | 547/725 [07:54<02:05,  1.42it/s]"
     ]
    },
    {
     "name": "stdout",
     "output_type": "stream",
     "text": [
      "AM.RCA40.00.EHZ failed to download. Continuing..\n"
     ]
    },
    {
     "name": "stderr",
     "output_type": "stream",
     "text": [
      " 76%|███████████████████████████████▏         | 552/725 [07:57<01:57,  1.47it/s]"
     ]
    },
    {
     "name": "stdout",
     "output_type": "stream",
     "text": [
      "AM.RCB9D.00.EHZ failed to download. Continuing..\n"
     ]
    },
    {
     "name": "stderr",
     "output_type": "stream",
     "text": [
      " 77%|███████████████████████████████▋         | 560/725 [08:03<01:57,  1.41it/s]"
     ]
    },
    {
     "name": "stdout",
     "output_type": "stream",
     "text": [
      "AM.RCD37.00.EHZ failed to download. Continuing..\n"
     ]
    },
    {
     "name": "stderr",
     "output_type": "stream",
     "text": [
      " 78%|████████████████████████████████         | 568/725 [08:10<01:53,  1.38it/s]"
     ]
    },
    {
     "name": "stdout",
     "output_type": "stream",
     "text": [
      "AM.RD064.00.EHZ failed to download. Continuing..\n"
     ]
    },
    {
     "name": "stderr",
     "output_type": "stream",
     "text": [
      "\r",
      " 78%|████████████████████████████████▏        | 569/725 [08:10<01:44,  1.50it/s]"
     ]
    },
    {
     "name": "stdout",
     "output_type": "stream",
     "text": [
      "AM.RD066.00.EHZ failed to download. Continuing..\n"
     ]
    },
    {
     "name": "stderr",
     "output_type": "stream",
     "text": [
      " 79%|████████████████████████████████▎        | 571/725 [08:12<01:43,  1.49it/s]"
     ]
    },
    {
     "name": "stdout",
     "output_type": "stream",
     "text": [
      "AM.RD103.00.EHZ failed to download. Continuing..\n"
     ]
    },
    {
     "name": "stderr",
     "output_type": "stream",
     "text": [
      " 79%|████████████████████████████████▌        | 576/725 [08:16<01:59,  1.24it/s]"
     ]
    },
    {
     "name": "stdout",
     "output_type": "stream",
     "text": [
      "AM.RD269.00.EHZ failed to download. Continuing..\n"
     ]
    },
    {
     "name": "stderr",
     "output_type": "stream",
     "text": [
      " 80%|████████████████████████████████▊        | 580/725 [08:19<01:39,  1.46it/s]"
     ]
    },
    {
     "name": "stdout",
     "output_type": "stream",
     "text": [
      "AM.RD310.00.EHZ failed to download. Continuing..\n"
     ]
    },
    {
     "name": "stderr",
     "output_type": "stream",
     "text": [
      " 80%|████████████████████████████████▉        | 583/725 [08:21<01:34,  1.50it/s]"
     ]
    },
    {
     "name": "stdout",
     "output_type": "stream",
     "text": [
      "AM.RD3BF.00.EHZ failed to download. Continuing..\n"
     ]
    },
    {
     "name": "stderr",
     "output_type": "stream",
     "text": [
      " 85%|██████████████████████████████████▉      | 617/725 [08:47<01:14,  1.44it/s]"
     ]
    },
    {
     "name": "stdout",
     "output_type": "stream",
     "text": [
      "AM.RE142.00.EHZ failed to download. Continuing..\n"
     ]
    },
    {
     "name": "stderr",
     "output_type": "stream",
     "text": [
      " 87%|███████████████████████████████████▌     | 629/725 [08:56<01:06,  1.44it/s]"
     ]
    },
    {
     "name": "stdout",
     "output_type": "stream",
     "text": [
      "AM.RE726.00.EHZ failed to download. Continuing..\n"
     ]
    },
    {
     "name": "stderr",
     "output_type": "stream",
     "text": [
      " 88%|████████████████████████████████████▏    | 640/725 [09:04<01:00,  1.41it/s]"
     ]
    },
    {
     "name": "stdout",
     "output_type": "stream",
     "text": [
      "AM.REC8E.00.EHZ failed to download. Continuing..\n"
     ]
    },
    {
     "name": "stderr",
     "output_type": "stream",
     "text": [
      "\r",
      " 88%|████████████████████████████████████▏    | 641/725 [09:05<00:55,  1.52it/s]"
     ]
    },
    {
     "name": "stdout",
     "output_type": "stream",
     "text": [
      "AM.REC8E.00.EHZ failed to download. Continuing..\n"
     ]
    },
    {
     "name": "stderr",
     "output_type": "stream",
     "text": [
      " 90%|████████████████████████████████████▊    | 651/725 [09:12<00:52,  1.41it/s]"
     ]
    },
    {
     "name": "stdout",
     "output_type": "stream",
     "text": [
      "AM.RF047.00.EHZ failed to download. Continuing..\n"
     ]
    },
    {
     "name": "stderr",
     "output_type": "stream",
     "text": [
      " 91%|█████████████████████████████████████▏   | 658/725 [09:19<01:08,  1.02s/it]"
     ]
    },
    {
     "name": "stdout",
     "output_type": "stream",
     "text": [
      "AM.RF1DC.00.EHZ failed to download. Continuing..\n"
     ]
    },
    {
     "name": "stderr",
     "output_type": "stream",
     "text": [
      " 92%|█████████████████████████████████████▉   | 670/725 [09:27<00:38,  1.45it/s]"
     ]
    },
    {
     "name": "stdout",
     "output_type": "stream",
     "text": [
      "AM.RF6E7.00.EHZ failed to download. Continuing..\n"
     ]
    },
    {
     "name": "stderr",
     "output_type": "stream",
     "text": [
      " 95%|██████████████████████████████████████▊  | 687/725 [09:40<00:26,  1.41it/s]"
     ]
    },
    {
     "name": "stdout",
     "output_type": "stream",
     "text": [
      "AM.RFD1C.00.EHZ failed to download. Continuing..\n"
     ]
    },
    {
     "name": "stderr",
     "output_type": "stream",
     "text": [
      " 95%|███████████████████████████████████████  | 691/725 [09:43<00:23,  1.45it/s]"
     ]
    },
    {
     "name": "stdout",
     "output_type": "stream",
     "text": [
      "AM.S0C34.00.EHZ failed to download. Continuing..\n"
     ]
    },
    {
     "name": "stderr",
     "output_type": "stream",
     "text": [
      " 96%|███████████████████████████████████████▏ | 694/725 [09:45<00:20,  1.50it/s]"
     ]
    },
    {
     "name": "stdout",
     "output_type": "stream",
     "text": [
      "AM.S269B.00.EHZ failed to download. Continuing..\n"
     ]
    },
    {
     "name": "stderr",
     "output_type": "stream",
     "text": [
      " 96%|███████████████████████████████████████▍ | 697/725 [09:47<00:18,  1.53it/s]"
     ]
    },
    {
     "name": "stdout",
     "output_type": "stream",
     "text": [
      "AM.S49FD.00.EHZ failed to download. Continuing..\n"
     ]
    },
    {
     "name": "stderr",
     "output_type": "stream",
     "text": [
      "\r",
      " 96%|███████████████████████████████████████▍ | 698/725 [09:48<00:16,  1.61it/s]"
     ]
    },
    {
     "name": "stdout",
     "output_type": "stream",
     "text": [
      "AM.S4C90.00.EHZ failed to download. Continuing..\n"
     ]
    },
    {
     "name": "stderr",
     "output_type": "stream",
     "text": [
      "\r",
      " 96%|███████████████████████████████████████▌ | 699/725 [09:48<00:15,  1.64it/s]"
     ]
    },
    {
     "name": "stdout",
     "output_type": "stream",
     "text": [
      "AM.S4E13.00.EHZ failed to download. Continuing..\n"
     ]
    },
    {
     "name": "stderr",
     "output_type": "stream",
     "text": [
      "\r",
      " 97%|███████████████████████████████████████▌ | 700/725 [09:49<00:14,  1.70it/s]"
     ]
    },
    {
     "name": "stdout",
     "output_type": "stream",
     "text": [
      "AM.S5754.00.EHZ failed to download. Continuing..\n"
     ]
    },
    {
     "name": "stderr",
     "output_type": "stream",
     "text": [
      "\r",
      " 97%|███████████████████████████████████████▋ | 701/725 [09:49<00:13,  1.75it/s]"
     ]
    },
    {
     "name": "stdout",
     "output_type": "stream",
     "text": [
      "AM.S5A61.00.EHZ failed to download. Continuing..\n"
     ]
    },
    {
     "name": "stderr",
     "output_type": "stream",
     "text": [
      "\r",
      " 97%|███████████████████████████████████████▋ | 702/725 [09:50<00:12,  1.78it/s]"
     ]
    },
    {
     "name": "stdout",
     "output_type": "stream",
     "text": [
      "AM.S6498.00.EHZ failed to download. Continuing..\n"
     ]
    },
    {
     "name": "stderr",
     "output_type": "stream",
     "text": [
      "\r",
      " 97%|███████████████████████████████████████▊ | 703/725 [09:50<00:12,  1.80it/s]"
     ]
    },
    {
     "name": "stdout",
     "output_type": "stream",
     "text": [
      "AM.S653E.00.EHZ failed to download. Continuing..\n"
     ]
    },
    {
     "name": "stderr",
     "output_type": "stream",
     "text": [
      " 97%|███████████████████████████████████████▊ | 705/725 [09:52<00:12,  1.66it/s]"
     ]
    },
    {
     "name": "stdout",
     "output_type": "stream",
     "text": [
      "AM.S897D.00.EHZ failed to download. Continuing..\n"
     ]
    },
    {
     "name": "stderr",
     "output_type": "stream",
     "text": [
      " 98%|███████████████████████████████████████▉ | 707/725 [09:53<00:11,  1.62it/s]"
     ]
    },
    {
     "name": "stdout",
     "output_type": "stream",
     "text": [
      "AM.S9357.00.EHZ failed to download. Continuing..\n"
     ]
    },
    {
     "name": "stderr",
     "output_type": "stream",
     "text": [
      "\r",
      " 98%|████████████████████████████████████████ | 708/725 [09:54<00:10,  1.68it/s]"
     ]
    },
    {
     "name": "stdout",
     "output_type": "stream",
     "text": [
      "AM.S9E82.00.EHZ failed to download. Continuing..\n"
     ]
    },
    {
     "name": "stderr",
     "output_type": "stream",
     "text": [
      " 98%|████████████████████████████████████████▏| 710/725 [09:55<00:09,  1.62it/s]"
     ]
    },
    {
     "name": "stdout",
     "output_type": "stream",
     "text": [
      "AM.SAB1A.00.EHZ failed to download. Continuing..\n"
     ]
    },
    {
     "name": "stderr",
     "output_type": "stream",
     "text": [
      " 98%|████████████████████████████████████████▎| 713/725 [09:57<00:07,  1.54it/s]"
     ]
    },
    {
     "name": "stdout",
     "output_type": "stream",
     "text": [
      "AM.SB293.00.EHZ failed to download. Continuing..\n"
     ]
    },
    {
     "name": "stderr",
     "output_type": "stream",
     "text": [
      "\r",
      " 98%|████████████████████████████████████████▍| 714/725 [09:58<00:07,  1.56it/s]"
     ]
    },
    {
     "name": "stdout",
     "output_type": "stream",
     "text": [
      "AM.SB2BC.00.EHZ failed to download. Continuing..\n"
     ]
    },
    {
     "name": "stderr",
     "output_type": "stream",
     "text": [
      " 99%|████████████████████████████████████████▌| 718/725 [10:00<00:04,  1.52it/s]"
     ]
    },
    {
     "name": "stdout",
     "output_type": "stream",
     "text": [
      "AM.SD5DB.00.EHZ failed to download. Continuing..\n"
     ]
    },
    {
     "name": "stderr",
     "output_type": "stream",
     "text": [
      "100%|█████████████████████████████████████████| 725/725 [10:06<00:00,  1.20it/s]"
     ]
    },
    {
     "name": "stdout",
     "output_type": "stream",
     "text": [
      "AM.SFF15.00.EHZ failed to download. Continuing..\n",
      "writing  /Users/leahjaffe/Desktop/Rtergpy/rterg_events/2022/2021092900/00/pkls/Params_2021092900.pkl \n",
      " /Users/leahjaffe/Desktop/Rtergpy/rterg_events/2022/2021092900/00/Params_2021092900.csv\n"
     ]
    },
    {
     "name": "stderr",
     "output_type": "stream",
     "text": [
      "\n"
     ]
    },
    {
     "name": "stdout",
     "output_type": "stream",
     "text": [
      "writing  /Users/leahjaffe/Desktop/Rtergpy/rterg_events/2022/2021092900/00/pkls/Wavestream-raw_2021092900.pkl\n"
     ]
    }
   ],
   "source": [
    "std,df=getwaves(Defaults=Defaults,Event=Event)"
   ]
  },
  {
   "cell_type": "code",
   "execution_count": 5,
   "id": "fb0eee89",
   "metadata": {},
   "outputs": [],
   "source": [
    "#modifying for a raspberry shake \n",
    "#time1&time2 need to be in the form(year,month,day,hour,min,sec)\n",
    "def signal2noiseRS(tr, rPtime=60, window=10,**kwargs):\n",
    "    #rPtime is relative time of P arrival to the beginning of the window [s]\n",
    "    #window is size of window for calculating the pre-P noise and post P [s]  \n",
    "    sps=int(tr.stats.sampling_rate)\n",
    "    vel=tr.data   \n",
    "    vel_square = np.square(vel)\n",
    "    #plt.figure()\n",
    "    #plt.plot(vel_square)\n",
    "    #plt.ylabel('vel (m/s)^2')\n",
    "    \n",
    "    if window < rPtime:\n",
    "        #noise before event \n",
    "        swin=int((rPtime/2-window/2)*sps-1)      \n",
    "        ewin=int(swin+window*sps-1)\n",
    "        noise = np.mean(vel_square[swin:ewin])      #based on RS sampling rate (another if statement for IRIS data sampling rates?)\n",
    "        #print(noise)\n",
    "\n",
    "        #signal after the pwave arrives\n",
    "        pwin=int(rPtime*sps-1)\n",
    "        epwin=int(pwin+window*sps-1)\n",
    "        signal = np.mean(vel_square[pwin:epwin])     #based on RS sampling rate \n",
    "        #print(signal)\n",
    "\n",
    "        ratio = signal/noise\n",
    "        #print(ratio)\n",
    "        return(ratio)  \n",
    "    else :\n",
    "        print(\"WARNING:  window \",window,\" is greater than rPtime\", rPtime, \"returning 0.\")\n",
    "        return 0\n",
    "    \n",
    "    \n",
    "#signal2noiseRS(tr,rPtime=60,window=30)"
   ]
  },
  {
   "cell_type": "code",
   "execution_count": 7,
   "id": "21183010",
   "metadata": {},
   "outputs": [
    {
     "name": "stdout",
     "output_type": "stream",
     "text": [
      "10.0\n"
     ]
    },
    {
     "data": {
      "text/plain": [
       "289.18620401679027"
      ]
     },
     "execution_count": 7,
     "metadata": {},
     "output_type": "execute_result"
    }
   ],
   "source": [
    "# test routine on one of the signals\n",
    "tr=std[6].copy() #changed st to std \n",
    "tr.resample(10) # resample to 10sps independent of input sps\n",
    "print(tr.stats.sampling_rate)\n",
    "tr.plot()\n",
    "#tr.stats\n",
    "\n",
    "pre_filt = (0.1, 0.5, 5.0, 10.0) #sample rate is 100\n",
    "tr.remove_response(output = 'VEL', pre_filt = pre_filt)\n",
    "\n",
    "# may remove\n",
    "tr.detrend('demean')           # preprocess data\n",
    "tr.detrend('linear')\n",
    "tr.detrend('demean')           # preprocess data\n",
    "tr.plot();\n",
    "signal2noiseRS(tr,rPtime=60,window=30)"
   ]
  },
  {
   "cell_type": "code",
   "execution_count": 8,
   "id": "b175c216",
   "metadata": {},
   "outputs": [
    {
     "name": "stderr",
     "output_type": "stream",
     "text": [
      "/Users/leahjaffe/opt/anaconda3/envs/rtergpy/lib/python3.9/site-packages/numpy/core/fromnumeric.py:3474: RuntimeWarning: Mean of empty slice.\n",
      "  return _methods._mean(a, axis=axis, dtype=dtype,\n",
      "/Users/leahjaffe/opt/anaconda3/envs/rtergpy/lib/python3.9/site-packages/numpy/core/_methods.py:189: RuntimeWarning: invalid value encountered in double_scalars\n",
      "  ret = ret.dtype.type(ret / rcount)\n"
     ]
    }
   ],
   "source": [
    "pre_filt = (0.1, 0.5, 5.0, 10.0) #sample rate is 20\n",
    "snr=np.zeros(0)\n",
    "dist=np.zeros(0)\n",
    "for tr in std.copy():\n",
    "    tr.resample(10) # resample to 10sps independent of input sps\n",
    "    #print(tr.stats.sampling_rate)\n",
    "    tr.remove_response(output = 'VEL', pre_filt = pre_filt)\n",
    "    # may remove\n",
    "    tr.detrend('demean')           # preprocess data\n",
    "    tr.detrend('linear')\n",
    "    tr.detrend('demean')           # preprocess data\n",
    "    snr=np.append(snr,signal2noiseRS(tr,rPtime=60,window=30))\n",
    "    # grab distance info\n",
    "    dist=np.append(dist,tr.stats.distdeg)"
   ]
  },
  {
   "cell_type": "code",
   "execution_count": 9,
   "id": "4c450324",
   "metadata": {},
   "outputs": [
    {
     "name": "stdout",
     "output_type": "stream",
     "text": [
      "[2.05911285e+03 2.54068958e+02 6.74892212e+01 1.56434672e+02\n",
      " 1.35808981e+04 1.13832120e+00 2.89186204e+02 9.44294815e+02\n",
      " 9.16769589e+02 1.77992870e+03 8.36474852e-01 1.25823956e+03\n",
      " 2.51311080e+02 7.83902691e+03 3.79263379e+03 4.44970184e+03\n",
      " 2.31230679e+03 1.82429929e+02            nan 1.80377399e+01\n",
      " 1.55423473e+03 6.31384613e+00 1.44930262e+02 8.23204048e+01\n",
      " 7.05082848e+03 6.99354649e+00 1.08850866e+03 1.05399116e+03\n",
      " 7.10459982e+03 1.14165305e+04 6.60930643e+02 8.21502163e+02\n",
      " 2.45336730e+02 1.45645023e+00 7.85437646e+02 6.08277163e+02\n",
      " 3.18046535e+02 3.65198211e+01 9.42850440e+02 1.57623629e+03\n",
      " 4.51490583e+00 4.24115110e+00 1.50462765e+04 3.32304990e+02\n",
      " 8.48952904e+01 1.41534181e+03 1.45879677e+02            nan\n",
      " 4.09926055e+03 2.43040603e+03 5.31120123e+01 1.22079619e+03\n",
      " 1.50873888e+03 3.46665962e+02 5.16098610e+02 8.81636659e+02\n",
      " 8.38741317e+01 3.70976686e+04 7.91121974e+00 2.20640293e+03\n",
      " 4.36236205e+02            nan 2.03695544e+02 2.30264338e+02\n",
      " 1.26052509e+02 6.07713888e+03 4.74111204e+01 6.24009791e+02\n",
      " 1.04118638e-01 5.06028064e+02 5.64375489e+02 1.84218994e+01\n",
      " 1.33263865e+02 2.74121402e+01 5.57466081e+02 2.80813861e+03\n",
      " 1.39298715e+03 7.82163548e+03 7.19418729e+00 9.41020610e+02\n",
      " 2.98971787e+03 1.99298412e+02 1.06156218e+01 4.32806656e+03\n",
      " 1.42365888e+03 1.87764584e+01 6.91246052e+02 1.21414695e+02\n",
      " 1.55047334e+03 8.73633695e+03 3.41271357e+03 1.67895819e+03\n",
      " 1.40001641e+03 1.02929268e+04 5.98385373e+02 8.07339638e+02\n",
      " 1.34302407e+03 4.22297740e+04 2.78007709e+03 4.87355147e+01\n",
      " 4.43586574e+02 4.26125926e+02 1.94162148e+00 5.53645876e+02\n",
      " 2.13754597e+02 1.21466536e+02 3.99406334e+04 1.69822647e+03\n",
      " 3.16843233e+04 4.24072352e+03 9.57142068e+01 1.83806296e+02\n",
      " 1.02404440e+02 1.40430246e+04 9.08343087e+01 3.35225777e+02\n",
      " 5.61917269e+01 5.51327599e+03 1.72345098e+01 6.57449217e+03\n",
      " 1.94680526e+02 6.89287954e+03 2.27104003e+01 6.87922641e+02\n",
      " 9.48481352e+02 6.78713327e+00 2.61820618e+04 1.42380602e+03\n",
      " 1.38798867e+02 5.04141356e+04 7.39717597e+01 1.10703914e+03\n",
      " 2.12134055e+00 1.12165572e+03 3.49047282e+03 3.19284772e+00\n",
      " 1.20115038e+03 4.34585571e+03 1.16264328e+00 2.95569254e+03\n",
      " 2.02859924e+02 4.74027329e+03 4.13210027e+03 5.20945030e+01\n",
      " 9.48252495e+01 1.77163127e+02 1.03649294e+04 8.42200306e+02\n",
      " 1.08268352e+02 9.77940893e+00 2.52117000e+03 3.71078386e+03\n",
      " 9.77484605e+03 1.20259549e+02 4.09752514e+03 2.68329545e+02\n",
      " 5.77452298e+01 4.99539496e+03 1.02645480e+03 2.96508380e+03\n",
      " 1.66047212e+03 1.50714199e+01 4.24358130e+01 7.48604714e+01\n",
      " 4.06762913e+03 2.68000415e+04 9.86404612e+02 6.91566756e-01\n",
      " 1.54801019e+02 1.37062053e+02 6.61933799e-01 2.02933553e+02\n",
      " 7.04873200e+03 6.43071691e+04 5.03958209e+03 7.42837572e+02\n",
      " 3.37498466e+03 2.48326336e+01 5.54902757e+02 3.53195291e+02\n",
      " 1.10456057e+02 9.32041297e+02 2.88636772e+02 1.08124111e+03\n",
      " 2.24484574e+03 2.01928351e+04 1.18116115e+03 7.26160532e+01\n",
      " 5.32617317e+02 2.36555843e+00 4.93976657e+01 3.27631286e+04\n",
      " 1.70068504e+03 2.62686399e+02 8.77200734e+00 2.46057511e+02\n",
      " 3.55585472e+03 3.65453615e+02 3.42468227e+03 6.02511348e+02\n",
      " 2.72418325e+01 2.31512773e+03 6.15770600e+03 5.81992031e+00\n",
      " 1.02225156e+02 2.96865963e+02 1.96849902e+02 3.36957021e+01\n",
      " 5.65611465e+03 2.38380141e+02 1.84228575e+03 4.17479716e+00\n",
      " 3.27282312e+02 1.16181683e+03 1.56823874e+03 4.20884840e+02\n",
      " 1.89892905e+00 5.76318208e+03 9.85329813e+02 2.08020671e+03\n",
      " 7.24081948e+02 7.21597473e+03 1.01399645e+00 5.26585191e+01\n",
      " 2.25839040e+03 2.61977914e+02 1.48444264e+01 3.75417178e+02\n",
      " 5.08621930e+01 2.89013472e+04 7.77668333e+04 3.72236655e+02\n",
      " 1.20555039e+01 2.22121850e+03 8.97882960e+02 2.26454993e+02\n",
      " 9.74761188e+04 2.30762109e+02 1.02338214e+03 1.77739575e+03\n",
      " 1.75779329e+02 4.68585046e+02 1.00097046e+03 3.32732606e+04\n",
      " 1.76221613e+04 9.84130122e+02 2.82883856e+03 3.17281679e+01\n",
      " 1.10854988e+02 1.05991204e+02 5.54087246e+02 6.08448143e+01\n",
      " 4.22631288e+03 1.46559144e+03 2.98522015e+02 1.42710456e+01\n",
      " 1.08170821e+01 1.95341676e+02 1.95341676e+02 1.95341676e+02\n",
      " 2.78757011e+02 4.97923638e+02 5.94562951e+03 2.37462954e+02\n",
      " 5.66978246e+02 2.57026670e+04 2.34409849e+04 2.18107438e+03\n",
      " 4.13599306e+04 6.45690636e+02 4.16990990e+02 5.30208847e+02\n",
      " 1.00564083e+03 1.38087278e+02 3.67173093e+04 3.29162033e+02\n",
      " 8.66747445e+02 3.99991905e+03 2.43325279e+03 4.26321077e+04\n",
      " 1.11170423e+04 3.14894963e+01 9.65699056e-01 1.07111181e+02\n",
      " 5.32061158e+01 1.72741316e+02 5.31794026e+00 1.83159271e+02\n",
      " 1.50499476e+03 6.63528611e+03 5.61623299e+02 2.62757936e+02\n",
      " 6.80638732e+02 1.45546590e+03 4.23294989e+03 3.57842929e+00\n",
      " 2.79194345e+03 1.52234607e+03 5.97486701e+02 4.42328631e+02\n",
      " 7.67421465e+02 2.80331442e+03 3.88987580e+02 1.45923606e+04\n",
      " 7.02577911e+02 1.09990603e+00 9.62309016e+04 5.85478991e+03\n",
      " 1.88946379e+03 1.08871658e+00 6.48443325e+02 2.47520350e+04\n",
      " 1.37063921e+04 2.46113562e+02 6.60573927e+02 1.61743679e+04\n",
      " 1.60476974e+04            nan 9.67879328e+01 7.42517648e+00\n",
      " 3.58386508e+01 3.96070253e+02 4.39461201e+01 1.88115861e+03\n",
      " 2.74335898e+03 3.75228373e+03 1.24713292e+03 8.34876670e+03\n",
      " 2.82057106e+02 2.39096029e+03 1.80526541e+02 1.18630300e+01\n",
      " 1.06307730e+04 9.22127790e+01 2.21477423e+02 1.30873505e+02\n",
      " 2.44065581e+02 3.32890659e+04 1.08227360e+02 2.52621490e+03\n",
      " 5.32343930e+03 8.83129712e+03 9.83733372e+02 1.44020573e+02\n",
      " 2.35093667e+03 7.93803998e+01 1.56175186e+02 2.63736461e+02\n",
      " 1.69173493e+03 9.41605204e+02 3.54657685e+02 4.77017830e+01\n",
      " 2.30964206e+02 3.14031563e+03 8.72863118e+02 1.34434521e+04\n",
      " 1.32631601e+00 4.60106044e+04 2.56146413e+03 8.52849684e+03\n",
      " 4.57497306e+03 8.09146283e+03 2.02450088e+03 1.54758168e+03\n",
      " 2.05933000e+01 3.48030746e+00 5.19560349e+00 9.34406694e+03\n",
      " 5.40605508e+01 1.72887432e+02 5.80822860e+03 1.96865504e+03\n",
      " 2.42053298e+04 4.38843476e+02 1.71648460e+02 5.42607957e+02\n",
      " 1.99253795e+02 1.28864014e+01 6.75976476e+03 1.69896648e+03\n",
      " 4.58428954e+02 9.96354193e-01 5.44318335e+04 1.75459201e+01\n",
      " 1.30256016e+03 1.56260940e+03 1.41169765e+03 2.38817053e+03\n",
      " 3.94890277e+04 1.62896071e+00 1.28273826e+00 2.02840736e+03\n",
      " 4.87864184e+02 1.32379120e+04 1.88909846e+00 1.29547840e+02\n",
      " 9.37274047e+02 1.95373562e+02 3.68454157e+03 2.41638468e+01\n",
      " 4.22755312e+03 2.74636723e+04 4.59509220e+00 5.99485822e+03\n",
      " 8.56439999e+04 4.41914268e+02 1.53364878e+02 2.88949230e+03\n",
      "            nan 1.12722044e+02 2.14443572e+03 2.07242129e+03\n",
      " 8.86503327e+01 1.13047228e+03 9.45649061e+03 2.26619352e+04\n",
      " 3.83634510e+03 5.15059959e+02 7.25500954e+01 5.30266277e-01\n",
      " 3.03513696e+02 2.68412914e+03 1.58620790e+03 1.06745224e+04\n",
      " 1.83475543e+03 2.17527519e+02 7.91218042e+02 4.57134488e+02\n",
      " 7.47422183e+02 2.21754111e+00 3.59763335e+03 1.16167706e+03\n",
      " 8.27354012e+02 2.48296470e+01 2.08483875e+03 4.14436874e+02\n",
      " 4.49154799e+02 8.37920287e+04 9.77279996e-01 1.69428374e+02\n",
      " 5.50012889e+01 5.38064216e+02 2.18150590e+01 5.16401431e+03\n",
      " 1.11427633e+04 4.26981499e+03 2.15180070e+00 7.62551647e+01\n",
      " 8.34660551e+02 8.42355150e+02 1.31620084e+03 1.71330396e+02\n",
      " 2.47946913e+04 2.80179985e+02 8.21388857e+03 7.35890208e+03\n",
      " 2.66552920e+02 6.53702256e+02 5.43552175e+04 4.29007842e+02\n",
      " 5.81680107e+03 9.05551132e+03 2.77658851e+02 1.07971218e+00\n",
      " 5.13704927e+02 2.63963961e+01 8.17717205e+02 7.39005525e+01\n",
      " 3.07978853e+01 2.60046625e+01 2.09357503e+04 1.36956622e+03\n",
      " 2.31998038e+03 5.86680331e+02 2.38855218e+03 2.78829477e+04\n",
      " 6.25742577e+02 4.81109343e-01 1.27633958e+04 6.35981448e+03\n",
      " 4.09470492e+03 1.40126243e+03 1.75944017e+03 8.81702221e+00\n",
      " 1.39781011e+03 1.96645763e+04 5.27387821e+02 3.44471781e+01\n",
      " 1.54880883e+02 4.87811151e+03 1.74678619e+03 6.83968220e+01\n",
      " 1.92291294e+03 6.04769313e+03 1.69187790e+03 4.27392085e+02\n",
      " 2.57322207e+02 7.27802612e+02 4.92531773e+02 3.10071944e+00\n",
      " 9.92303916e+02 1.36082303e+01 8.91062493e+01 3.84305704e+02\n",
      " 8.21151700e+01 1.13216772e+01 6.92758470e+00 2.33487937e+03\n",
      " 3.11647528e+01 1.81900115e+03 6.64842783e+03 1.01577846e+00\n",
      " 1.66996185e+02 8.08622129e+02 7.46360529e+03 3.11516301e+01\n",
      " 4.50524125e+02 4.33280194e+02 4.39092842e+03 6.23581190e+03\n",
      " 4.14145060e+03 8.40217594e+03 1.07764714e+03 1.09709114e+03\n",
      " 3.07658851e+02 5.43958806e+03 4.54476354e+03 1.47091358e+00\n",
      " 9.05897052e+00 1.98780224e+02 2.79307616e+03 8.50030273e+02\n",
      " 2.00740609e+03 4.70447470e+03 1.13567542e+00 1.66679106e+02\n",
      " 3.72503158e+02 1.32819590e+03 9.02309325e+03 4.76855210e+02\n",
      " 2.31432613e+02 6.34887674e+00 4.80585584e+00 1.95209695e+04\n",
      " 4.16408517e+03 2.33426859e+03 1.08199177e+00 3.11880367e+03\n",
      " 1.80877552e+00 1.76808247e+02 1.52474666e+00 7.79792755e+01\n",
      " 1.90794379e+04 3.63806768e+02 6.90436840e+00 2.71408557e+04\n",
      " 2.04227825e+04 1.16138380e+03 2.13138715e+03 6.86649164e+00\n",
      " 3.55221263e+01 1.01732168e+02 1.55901521e+00 1.72346489e+02\n",
      " 8.29726814e+02 6.76478137e+02 1.61584607e+04 1.88316424e+04\n",
      " 4.11541263e+02 5.81239538e+03 1.50439927e+01 2.35080158e+01\n",
      " 2.08819974e+02 2.51527614e+03 5.81211691e+00 2.11695247e-01\n",
      " 7.24095009e+03 3.09833584e+03 2.62714429e+03 2.69223452e+03\n",
      " 1.93696522e+03 1.08896297e+03 8.06825288e+02 1.38399145e+04\n",
      " 1.23417390e+02 1.92087350e+02 9.73192706e+03 4.63599377e+02\n",
      " 5.15467494e+01 1.90790048e+03 1.87473817e+01 6.34106683e+01\n",
      " 3.16010242e+02 1.50297073e+02 4.23550740e+04 6.53453412e+04\n",
      " 7.89034669e-01 3.52178539e+02 3.41554748e+03 5.78316179e+02\n",
      " 1.86158475e+04 3.50727515e+03 2.79521329e+01 1.31714868e+03\n",
      " 1.28811497e+03 1.51450019e+02 2.26235874e-01 4.31427803e+03\n",
      " 1.54855752e+03 3.99009721e+01 1.16046092e+03 2.20934002e+03\n",
      " 4.24101970e+03 1.28832950e+04 3.58278410e+02 1.08344227e+03\n",
      " 1.22007324e+02 5.53908279e+03 2.75735082e+02 2.41951150e+01\n",
      " 2.36736656e+03 2.90955482e+03 1.37041673e+03 7.64285421e+03\n",
      " 1.76509472e+04 2.08056304e+02 6.10267101e+01 4.08173841e+04\n",
      " 4.48713133e+03 4.51996422e+01 5.29074667e+01 9.01416002e+02\n",
      " 4.11880697e+03 9.06239832e+01 4.11073854e+02 2.38621847e+00\n",
      " 1.95287675e+03 2.03132966e+04 1.73034749e+01]\n"
     ]
    }
   ],
   "source": [
    "print(snr)"
   ]
  },
  {
   "cell_type": "code",
   "execution_count": null,
   "id": "9b4553a8",
   "metadata": {},
   "outputs": [],
   "source": []
  },
  {
   "cell_type": "code",
   "execution_count": 10,
   "id": "a48f7401",
   "metadata": {
    "scrolled": true
   },
   "outputs": [
    {
     "data": {
      "text/plain": [
       "Text(0, 0.5, 'signal to noise ratio')"
      ]
     },
     "execution_count": 10,
     "metadata": {},
     "output_type": "execute_result"
    }
   ],
   "source": [
    "#plt.semilogy(snr,'r.')\n",
    "plt.semilogy(dist, snr,'r+')\n",
    "plt.title('Mag 7.2, depth 217.83km')\n",
    "plt.xlabel('number of events')\n",
    "plt.ylabel('signal to noise ratio')"
   ]
  },
  {
   "cell_type": "code",
   "execution_count": null,
   "id": "d9e9cc0b",
   "metadata": {},
   "outputs": [],
   "source": [
    "print(array)"
   ]
  },
  {
   "cell_type": "code",
   "execution_count": null,
   "id": "d09874b7",
   "metadata": {},
   "outputs": [],
   "source": [
    "st[0][10].stats.sampling_rate"
   ]
  },
  {
   "cell_type": "code",
   "execution_count": null,
   "id": "a29db816",
   "metadata": {},
   "outputs": [],
   "source": [
    "std[0].plot()"
   ]
  },
  {
   "cell_type": "code",
   "execution_count": null,
   "id": "3b61d301",
   "metadata": {},
   "outputs": [],
   "source": [
    "\n"
   ]
  },
  {
   "cell_type": "code",
   "execution_count": null,
   "id": "61421488",
   "metadata": {},
   "outputs": [],
   "source": []
  },
  {
   "cell_type": "code",
   "execution_count": null,
   "id": "2614fc03",
   "metadata": {},
   "outputs": [],
   "source": []
  },
  {
   "cell_type": "code",
   "execution_count": null,
   "id": "35ed3b90",
   "metadata": {},
   "outputs": [],
   "source": []
  },
  {
   "cell_type": "markdown",
   "id": "eead3972",
   "metadata": {},
   "source": [
    "# OLD Below"
   ]
  },
  {
   "cell_type": "code",
   "execution_count": null,
   "id": "a647b5a8",
   "metadata": {},
   "outputs": [],
   "source": [
    "#print(st[0][5].stats)\n",
    "tr=std[6].copy() #changed st to std \n",
    "pre_filt = (0.1, 0.5, 5.0, 10.0) #sample rate is 100\n",
    "\n",
    "#print(tr.stats.sampling_rate)\n",
    "\n",
    "tr.resample(10) # resample to 10sps independent of input sps\n",
    "print(tr.stats.sampling_rate)\n",
    "tr.plot()\n",
    "tr.stats\n",
    "\n",
    "tr.remove_response(output = 'VEL', pre_filt = pre_filt)\n",
    "\n",
    "# may remove\n",
    "tr.detrend('demean')           # preprocess data\n",
    "tr.detrend('linear')\n",
    "tr.detrend('demean')           # preprocess data\n",
    "    \n",
    "tr.plot()\n",
    "\n",
    "#tr.decimate(10, strict_length=False,no_filter=True)"
   ]
  }
 ],
 "metadata": {
  "kernelspec": {
   "display_name": "rtergpy",
   "language": "python",
   "name": "rtergpy"
  },
  "language_info": {
   "codemirror_mode": {
    "name": "ipython",
    "version": 3
   },
   "file_extension": ".py",
   "mimetype": "text/x-python",
   "name": "python",
   "nbconvert_exporter": "python",
   "pygments_lexer": "ipython3",
   "version": "3.9.13"
  }
 },
 "nbformat": 4,
 "nbformat_minor": 5
}
