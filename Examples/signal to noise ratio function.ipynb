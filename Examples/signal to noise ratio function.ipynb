{
 "cells": [
  {
   "cell_type": "code",
   "execution_count": 1,
   "id": "3999037d",
   "metadata": {},
   "outputs": [],
   "source": [
    "from obspy import read, read_inventory, UTCDateTime\n",
    "from obspy.geodetics import locations2degrees\n",
    "from obspy.clients.fdsn import Client\n",
    "import matplotlib.pyplot as plt\n",
    "import matplotlib\n",
    "import numpy as np\n",
    "\n",
    "%matplotlib inline"
   ]
  },
  {
   "cell_type": "code",
   "execution_count": 2,
   "id": "2a380e54",
   "metadata": {},
   "outputs": [
    {
     "name": "stdout",
     "output_type": "stream",
     "text": [
      "[[[0.00333333, 2.0], [0.5, 2.0]], [-60, 300], 1]\n"
     ]
    }
   ],
   "source": [
    "from rtergpy.run import defaults,event\n",
    "from rtergpy.waveforms import theorPinfo,getwaves\n",
    "\n",
    "Defaults=defaults()\n",
    "Event=event()\n",
    "Defaults.src=\"RASPISHAKE\"\n",
    "Defaults.network='AM'\n",
    "Defaults.chan=\"EHZ\"\n",
    "Defaults.stationrange=[25,30]\n",
    "station='SF4A5'\n",
    "\n",
    "Event.origin=[[-14.8628,-70.3081,217.83],UTCDateTime(2022,5,26,12,2,20)]\n",
    "print(Defaults.waveparams)\n",
    "%matplotlib inline"
   ]
  },
  {
   "cell_type": "code",
   "execution_count": 3,
   "id": "3fed0b53",
   "metadata": {},
   "outputs": [
    {
     "name": "stdout",
     "output_type": "stream",
     "text": [
      "New working directory is:  /home/ljaffe7/Rtergpy/rterg_events/events/2022/2021092900/00\n",
      "Checking for stations available within range from IRIS\n",
      "Getting waves from RASPISHAKE\n"
     ]
    },
    {
     "name": "stderr",
     "output_type": "stream",
     "text": [
      " 18%|███████▊                                    | 3/17 [00:02<00:09,  1.54it/s]"
     ]
    },
    {
     "name": "stdout",
     "output_type": "stream",
     "text": [
      "AM.R325B.00.EHZ failed to download. Continuing..\n"
     ]
    },
    {
     "name": "stderr",
     "output_type": "stream",
     "text": [
      "100%|███████████████████████████████████████████| 17/17 [00:13<00:00,  1.25it/s]"
     ]
    },
    {
     "name": "stdout",
     "output_type": "stream",
     "text": [
      "writing  /home/ljaffe7/Rtergpy/rterg_events/events/2022/2021092900/00/pkls/Params_2021092900.pkl \n",
      " /home/ljaffe7/Rtergpy/rterg_events/events/2022/2021092900/00/Params_2021092900.csv\n",
      "writing  /home/ljaffe7/Rtergpy/rterg_events/events/2022/2021092900/00/pkls/Wavestream-raw_2021092900.pkl\n"
     ]
    },
    {
     "name": "stderr",
     "output_type": "stream",
     "text": [
      "\n"
     ]
    }
   ],
   "source": [
    "std,df=getwaves(Defaults=Defaults,Event=Event)"
   ]
  },
  {
   "cell_type": "code",
   "execution_count": 4,
   "id": "fb0eee89",
   "metadata": {},
   "outputs": [],
   "source": [
    "#modifying for a raspberry shake \n",
    "#time1&time2 need to be in the form(year,month,day,hour,min,sec)\n",
    "def signal2noiseRS(tr, rPtime=60, window=10,**kwargs):\n",
    "    #rPtime is relative time of P arrival to the beginning of the window [s]\n",
    "    #window is size of window for calculating the pre-P noise and post P [s]  \n",
    "    sps=int(tr.stats.sampling_rate)\n",
    "    vel=tr.data   \n",
    "    vel_square = np.square(vel)\n",
    "    #plt.figure()\n",
    "    #plt.plot(vel_square)\n",
    "    #plt.ylabel('vel (m/s)^2')\n",
    "    \n",
    "    if window < rPtime:\n",
    "        #noise before event \n",
    "        swin=int((rPtime/2-window/2)*sps-1)      \n",
    "        ewin=int(swin+window*sps-1)\n",
    "        noise = np.mean(vel_square[swin:ewin])      #based on RS sampling rate (another if statement for IRIS data sampling rates?)\n",
    "        #print(noise)\n",
    "\n",
    "        #signal after the pwave arrives\n",
    "        pwin=int(rPtime*sps-1)\n",
    "        epwin=int(pwin+window*sps-1)\n",
    "        signal = np.mean(vel_square[pwin:epwin])     #based on RS sampling rate \n",
    "        #print(signal)\n",
    "\n",
    "        ratio = signal/noise\n",
    "        #print(ratio)\n",
    "        return(ratio)  \n",
    "    else :\n",
    "        print(\"WARNING:  window \",window,\" is greater than rPtime\", rPtime, \"returning 0.\")\n",
    "        return 0\n",
    "    \n",
    "    \n",
    "#signal2noiseRS(tr,rPtime=60,window=30)"
   ]
  },
  {
   "cell_type": "code",
   "execution_count": 5,
   "id": "21183010",
   "metadata": {},
   "outputs": [
    {
     "name": "stdout",
     "output_type": "stream",
     "text": [
      "10.0\n"
     ]
    },
    {
     "data": {
      "text/plain": [
       "96230.90162657389"
      ]
     },
     "execution_count": 5,
     "metadata": {},
     "output_type": "execute_result"
    }
   ],
   "source": [
    "# test routine on one of the signals\n",
    "tr=std[6].copy() #changed st to std \n",
    "tr.resample(10) # resample to 10sps independent of input sps\n",
    "print(tr.stats.sampling_rate)\n",
    "tr.plot()\n",
    "#tr.stats\n",
    "\n",
    "pre_filt = (0.1, 0.5, 5.0, 10.0) #sample rate is 100\n",
    "tr.remove_response(output = 'VEL', pre_filt = pre_filt)\n",
    "\n",
    "# may remove\n",
    "tr.detrend('demean')           # preprocess data\n",
    "tr.detrend('linear')\n",
    "tr.detrend('demean')           # preprocess data\n",
    "tr.plot();\n",
    "signal2noiseRS(tr,rPtime=60,window=30)"
   ]
  },
  {
   "cell_type": "code",
   "execution_count": 6,
   "id": "b175c216",
   "metadata": {},
   "outputs": [],
   "source": [
    "pre_filt = (0.1, 0.5, 5.0, 10.0) #sample rate is 20\n",
    "snr=np.zeros(0)\n",
    "dist=np.zeros(0)\n",
    "for tr in std.copy():\n",
    "    tr.resample(10) # resample to 10sps independent of input sps\n",
    "    #print(tr.stats.sampling_rate)\n",
    "    tr.remove_response(output = 'VEL', pre_filt = pre_filt)\n",
    "    # may remove\n",
    "    tr.detrend('demean')           # preprocess data\n",
    "    tr.detrend('linear')\n",
    "    tr.detrend('demean')           # preprocess data\n",
    "    snr=np.append(snr,signal2noiseRS(tr,rPtime=60,window=30))\n",
    "    # grab distance info\n",
    "    dist=np.append(dist,tr.stats.distdeg)"
   ]
  },
  {
   "cell_type": "code",
   "execution_count": 7,
   "id": "4c450324",
   "metadata": {},
   "outputs": [
    {
     "name": "stdout",
     "output_type": "stream",
     "text": [
      "[7.05082848e+03 4.22297740e+04 9.77484605e+03 4.99539496e+03\n",
      " 6.43071691e+04 4.13599306e+04 9.62309016e+04 1.54758168e+03\n",
      " 3.94890277e+04 2.78829477e+04 6.64842783e+03 1.95209695e+04\n",
      " 1.88316424e+04 4.23550740e+04 4.08173841e+04 2.38621847e+00]\n"
     ]
    }
   ],
   "source": [
    "print(snr)"
   ]
  },
  {
   "cell_type": "code",
   "execution_count": 13,
   "id": "a48f7401",
   "metadata": {
    "scrolled": true
   },
   "outputs": [
    {
     "data": {
      "text/plain": [
       "Text(0, 0.5, 'signal to noise ratio')"
      ]
     },
     "execution_count": 13,
     "metadata": {},
     "output_type": "execute_result"
    },
    {
     "data": {
      "image/png": "[encoded data removed]",
      "text/plain": [
       "<Figure size 432x288 with 1 Axes>"
      ]
     },
     "metadata": {
      "needs_background": "light"
     },
     "output_type": "display_data"
    }
   ],
   "source": [
    "%matplotlib inline\n",
    "#plt.semilogy(snr,'r.')\n",
    "plt.semilogy(dist, snr,'r+')\n",
    "plt.title('Mag 7.2, depth 217.83km')\n",
    "plt.xlabel('number of events')\n",
    "plt.ylabel('signal to noise ratio')\n",
    "plt.show()"
   ]
  },
  {
   "cell_type": "code",
   "execution_count": null,
   "id": "d9e9cc0b",
   "metadata": {},
   "outputs": [],
   "source": [
    "print(array)"
   ]
  },
  {
   "cell_type": "code",
   "execution_count": null,
   "id": "d09874b7",
   "metadata": {},
   "outputs": [],
   "source": [
    "st[0][10].stats.sampling_rate"
   ]
  },
  {
   "cell_type": "code",
   "execution_count": null,
   "id": "a29db816",
   "metadata": {},
   "outputs": [],
   "source": [
    "std[0].plot()"
   ]
  },
  {
   "cell_type": "code",
   "execution_count": null,
   "id": "3b61d301",
   "metadata": {},
   "outputs": [],
   "source": [
    "\n"
   ]
  },
  {
   "cell_type": "code",
   "execution_count": null,
   "id": "61421488",
   "metadata": {},
   "outputs": [],
   "source": []
  },
  {
   "cell_type": "code",
   "execution_count": null,
   "id": "2614fc03",
   "metadata": {},
   "outputs": [],
   "source": []
  },
  {
   "cell_type": "code",
   "execution_count": null,
   "id": "35ed3b90",
   "metadata": {},
   "outputs": [],
   "source": []
  },
  {
   "cell_type": "markdown",
   "id": "eead3972",
   "metadata": {},
   "source": [
    "# OLD Below"
   ]
  },
  {
   "cell_type": "code",
   "execution_count": null,
   "id": "a647b5a8",
   "metadata": {},
   "outputs": [],
   "source": [
    "#print(st[0][5].stats)\n",
    "tr=std[6].copy() #changed st to std \n",
    "pre_filt = (0.1, 0.5, 5.0, 10.0) #sample rate is 100\n",
    "\n",
    "#print(tr.stats.sampling_rate)\n",
    "\n",
    "tr.resample(10) # resample to 10sps independent of input sps\n",
    "print(tr.stats.sampling_rate)\n",
    "tr.plot()\n",
    "tr.stats\n",
    "\n",
    "tr.remove_response(output = 'VEL', pre_filt = pre_filt)\n",
    "\n",
    "# may remove\n",
    "tr.detrend('demean')           # preprocess data\n",
    "tr.detrend('linear')\n",
    "tr.detrend('demean')           # preprocess data\n",
    "    \n",
    "tr.plot()\n",
    "\n",
    "#tr.decimate(10, strict_length=False,no_filter=True)"
   ]
  }
 ],
 "metadata": {
  "kernelspec": {
   "display_name": "rtergpy",
   "language": "python",
   "name": "rtergpy"
  },
  "language_info": {
   "codemirror_mode": {
    "name": "ipython",
    "version": 3
   },
   "file_extension": ".py",
   "mimetype": "text/x-python",
   "name": "python",
   "nbconvert_exporter": "python",
   "pygments_lexer": "ipython3",
   "version": "3.9.13"
  }
 },
 "nbformat": 4,
 "nbformat_minor": 5
}
