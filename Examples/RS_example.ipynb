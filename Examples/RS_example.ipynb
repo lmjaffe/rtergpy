{
 "cells": [
  {
   "cell_type": "code",
   "execution_count": 1,
   "metadata": {},
   "outputs": [],
   "source": [
    "from rtergpy.run import defaults, event, etime2name, src2ergs\n",
    "from obspy import UTCDateTime\n",
    "Defaults=defaults()\n",
    "Event=event()\n",
    "Defaults.src=\"RASPISHAKE\"\n",
    "Defaults.network=\"AM\"\n",
    "Defaults.chan=\"EHZ\""
   ]
  },
  {
   "cell_type": "code",
   "execution_count": 2,
   "metadata": {},
   "outputs": [
    {
     "name": "stdout",
     "output_type": "stream",
     "text": [
      "2021081400\n"
     ]
    }
   ],
   "source": [
    "eloc = [18.56,-73.55,10] \n",
    "etime= UTCDateTime(2021,8,14,12,29,8) \n",
    "Event.ecount='00'\n",
    "#Event.newData=False   # use already downloaded data\n",
    "Event.newData=True\n",
    "Event.eventname=etime2name(etime,ecount=Event.ecount)\n",
    "Event.origin=[eloc,etime]\n",
    "Event.focmech=[266, 51, 34] # phi,delta,lmbda\n",
    "\n",
    "print(Event.eventname)"
   ]
  },
  {
   "cell_type": "code",
   "execution_count": 3,
   "metadata": {},
   "outputs": [
    {
     "name": "stdout",
     "output_type": "stream",
     "text": [
      "Getting waveforms\n",
      "ERROR:  coudn't move directory to  /Users/anewman/Documents/Projects/EQerg/rterg_events/events/2021/2021081400/00.bak\n",
      "Error:  Couldn't create directory:  /Users/anewman/Documents/Projects/EQerg/rterg_events/events/2021/2021081400/00\n",
      "Checking for stations available within range from IRIS\n",
      "Getting waves from IRIS\n"
     ]
    },
    {
     "name": "stderr",
     "output_type": "stream",
     "text": [
      "100%|█████████████████████████████████████████████████████████████████████████████████████| 4/4 [00:04<00:00,  1.22s/it]"
     ]
    },
    {
     "name": "stdout",
     "output_type": "stream",
     "text": [
      "AM.REDDE.00.EHZ failed to download. Continuing..\n",
      "writing  /Users/anewman/Documents/Projects/EQerg/rterg_events/events/2021/2021081400/00/pkls/Params_2021081400.pkl \n",
      " /Users/anewman/Documents/Projects/EQerg/rterg_events/events/2021/2021081400/00/Params_2021081400.csv\n",
      "writing  /Users/anewman/Documents/Projects/EQerg/rterg_events/events/2021/2021081400/00/pkls/Wavestream-raw_2021081400.pkl\n",
      "Working directory now:  /Users/anewman/Documents/Projects/EQerg/rterg_events/events/2021/2021081400/00\n"
     ]
    },
    {
     "name": "stderr",
     "output_type": "stream",
     "text": [
      "\n",
      "/Users/anewman/opt/anaconda3/envs/leah_rtergpy/lib/python3.9/site-packages/rtergpy/run.py:164: FutureWarning: The frame.append method is deprecated and will be removed from pandas in a future version. Use pandas.concat instead.\n",
      "  trdf=trdf.append(trstat2pd(tr),ignore_index=True)\n"
     ]
    },
    {
     "name": "stdout",
     "output_type": "stream",
     "text": [
      "Calculating Energy growth with time \n",
      "Running fband [0.00333333, 2.0] Hz:\n"
     ]
    },
    {
     "name": "stderr",
     "output_type": "stream",
     "text": [
      "100%|█████████████████████████████████████████████████████████████████████████████████████| 3/3 [00:00<00:00, 12.09it/s]\n"
     ]
    },
    {
     "name": "stdout",
     "output_type": "stream",
     "text": [
      "Running fband [0.5, 2.0] Hz:\n"
     ]
    },
    {
     "name": "stderr",
     "output_type": "stream",
     "text": [
      "100%|█████████████████████████████████████████████████████████████████████████████████████| 3/3 [00:00<00:00, 15.36it/s]\n"
     ]
    },
    {
     "name": "stdout",
     "output_type": "stream",
     "text": [
      "Length EBB and EHF 360 360\n",
      "Calculating TACER Values\n"
     ]
    },
    {
     "name": "stderr",
     "output_type": "stream",
     "text": [
      "100%|█████████████████████████████████████████████████████████████████████████████████████| 3/3 [00:00<00:00, 24.84it/s]\n",
      "100%|█████████████████████████████████████████████████████████████████████████████████████| 3/3 [00:00<00:00, 25.30it/s]\n"
     ]
    },
    {
     "name": "stdout",
     "output_type": "stream",
     "text": [
      "Median Tacer time = 158.0 -/+ 114.0/164.5 s (25/75th percentile)\n",
      "From Median Tacer: --------------------------\n",
      "  Mean BB Energy (Estimated)= 4.50e+16 [Me 8.20]\n",
      "    1/300 - 2 Hz: 3 traces, 4.50e+16 +- 10^0.15 [J]\n",
      "    1/2 - 2 Hz: 3 traces, 4.77e+14 +- 10^0.17 [J]\n",
      "  Mean BB Energy (FM corrected) = 9.42e+16 [Me 8.42]\n",
      "    1/300 - 2 Hz: 3 traces, 9.42e+16 +- 10^0.15 [J]\n",
      "    1/2 - 2 Hz: 3 traces, 9.98e+14 +- 10^0.17 [J]\n",
      "From Per-Station Tacer: ---------------------\n",
      "  Mean BB Energy (Estimated)= 3.36e+16 [Me 8.12]\n",
      "    1/300 - 2 Hz: 3 traces, 3.36e+16 +- 10^0.24 [J]\n",
      "    1/2 - 2 Hz: 3 traces, 3.78e+14 +- 10^0.31 [J]\n",
      "  Mean BB Energy (FM corrected) = 7.04e+16 [Me 8.33]\n",
      "    1/300 - 2 Hz: 3 traces, 7.04e+16 +- 10^0.24 [J]\n",
      "    1/2 - 2 Hz: 3 traces, 7.90e+14 +- 10^0.31 [J]\n",
      "Making figures\n",
      "\n",
      "writing results\n",
      "\n"
     ]
    }
   ],
   "source": [
    "#Event.newData=True\n",
    "src2ergs(Defaults=Defaults,Event=Event)"
   ]
  },
  {
   "cell_type": "markdown",
   "metadata": {},
   "source": [
    "### stop here\n",
    "\n",
    "below is running pieces of code.  Everything seems to technically work, but we're only getting a very few stations (and only pacific northwest).  I wonder if this is because of lack of useful information in the FDSN inventories for RS stations."
   ]
  },
  {
   "cell_type": "code",
   "execution_count": null,
   "metadata": {},
   "outputs": [],
   "source": [
    "\n",
    "from rtergpy.waveforms import getwaves,ErgsFromWaves,loadwaves,gmeanCut,tacer,tacerstats\n",
    "from rtergpy.waveforms import trstat2pd,e2Me,eventdir\n",
    "from rtergpy.plotting import tacerplot,Edistplot,Ehistogram,Eazplot, stationEmapPygmt, fbandlabels, Efluxplots\n",
    "import numpy as np\n",
    "import pandas as pd\n",
    "import matplotlib as mpl\n",
    "import os\n",
    "    \n",
    "Defaults.src=\"RASPISHAKE\"\n",
    "Defaults.network=\"AM\"\n",
    "Defaults.chan=\"EHZ\"\n",
    "\n",
    "\n",
    "if Event.newData:\n",
    "    print(\"Getting waveforms\")\n",
    "    #st,df=getwaves(eloc,etime,pwindow=Def.waveparams[1],rads=Def.stationrange)\n",
    "    st,df=getwaves(Defaults=Defaults,Event=Event)\n",
    "else:\n",
    "    print(\"Loading locally stored waveforms\")\n",
    "    try:\n",
    "        st,df=loadwaves(Defaults=Defaults,Event=Event) \n",
    "    except:\n",
    "        print(\"Couldn't load data for \"+eventname+\". Attempting to download:\")\n",
    "        st,df=getwaves(Defaults=Defaults,Event=Event)\n",
    "if len(st) == 0:\n",
    "    raise Exception(\"ERROR: No waveforms retreived.\") \n",
    "  "
   ]
  },
  {
   "cell_type": "code",
   "execution_count": null,
   "metadata": {},
   "outputs": [],
   "source": [
    "STATCHAN0=''\n",
    "for tr in st:\n",
    "    STATCHAN=str(tr.stats.network)+str(tr.stats.station)\n",
    "    if STATCHAN == STATCHAN0:\n",
    "        st.remove(tr)\n",
    "    STATCHAN0=STATCHAN\n",
    "\n",
    "# work in event directory \n",
    "edirit,origwd=eventdir(Defaults=Defaults,Event=Event,create=False,cd=True)\n",
    "\n",
    "# create an array of station data \n",
    "trdf=pd.DataFrame()\n",
    "for tr in st:\n",
    "    trdf=trdf.append(trstat2pd(tr),ignore_index=True)"
   ]
  },
  {
   "cell_type": "code",
   "execution_count": null,
   "metadata": {},
   "outputs": [],
   "source": [
    "trdf.head()"
   ]
  },
  {
   "cell_type": "code",
   "execution_count": null,
   "metadata": {},
   "outputs": [],
   "source": [
    "print(\"Calculating Energy growth with time \")\n",
    "# Calculate energies over all waves\n",
    "EBB,EHF,Emd=ErgsFromWaves(st,Defaults,Event)   \n",
    "print(\"Length EBB and EHF\", len(EBB),len(EHF))\n",
    "# get tacer values and fist derivatives \n",
    "print(\"Calculating TACER Values\")\n",
    "#kern=10  # 1/2 width of gauss @ 1sig\n",
    "kern=Defaults.smoothkern\n",
    "EBBSmooth=EBB.rolling(kern,win_type='gaussian',center=True, closed='both').mean(std=kern/2)\n",
    "dEBBdt=EBB.diff()\n",
    "dEBBdtSmooth=EBBSmooth.diff()\n",
    "\n",
    "EHFSmooth=EHF.rolling(kern,win_type='gaussian',center=True, closed='both').mean(std=kern/2)\n",
    "dEHFdt=EHF.diff()\n",
    "dEHFdtSmooth=EHFSmooth.diff()\n",
    "\n",
    "prePtime=Defaults.waveparams[1][0]\n",
    "tacerBB=tacer(dEBBdtSmooth,prePtime=prePtime)\n",
    "tacerHF=tacer(dEHFdtSmooth,prePtime=prePtime)\n",
    "ttimes,meds = tacerstats(tacerHF) \n",
    "ttimeHF,ttimeHF25,ttimeHF75=ttimes\n",
    "print(\"Median Tacer time = %.1f -/+ %.1f/%.1f s (25/75th percentile)\" %(ttimeHF,ttimeHF25,ttimeHF75))\n",
    "\n",
    "intval=int(ttimeHF-prePtime)  # median tacer time from start of waveforms\n",
    "ebbmedtac=np.array(EBB.iloc[intval])  # list of EBB values at *median* tacer\n",
    "ehfmedtac=np.array(EHF.iloc[intval])  # list of EBB values at *median* tacer\n",
    "# corrected values for focmech\n",
    "ebbcorrmedtac=np.array(list(ebbmedtac*np.array(Emd.est2corr)))\n",
    "ehfcorrmedtac=np.array(list(ehfmedtac*np.array(Emd.est2corr)))\n",
    "\n",
    "# Energy values at per station tacer\n",
    "ebbpertac=[]\n",
    "ehfpertac=[]\n",
    "for i in range(0,len(meds)):\n",
    "    ebbpertac = np.append(ebbpertac, EBB.iloc[meds['time at max'][i]-prePtime][i])\n",
    "    ehfpertac = np.append(ehfpertac, EHF.iloc[meds['time at max'][i]-prePtime][i])\n",
    "\n",
    "ebbcorrpertac=np.array(list(ebbpertac*np.array(Emd.est2corr)))\n",
    "ehfcorrpertac=np.array(list(ehfpertac*np.array(Emd.est2corr)))\n",
    "\n",
    "# cutoff=15 # 15x +/-  # moved into defaults\n",
    "cutoff=Defaults.cutoff\n",
    "labelbb,labelhf=fbandlabels(Emd)\n",
    "\n",
    "print(\"From Median Tacer: --------------------------\")\n",
    "ebbmedtacmean,keepbb=gmeanCut(ebbmedtac,cutoff=cutoff)\n",
    "ehfmedtacmean,keephf=gmeanCut(ehfmedtac,cutoff=cutoff)\n",
    "ebbmedtacmeanerr10=np.std(np.log10(keepbb))\n",
    "ehfmedtacmeanerr10=np.std(np.log10(keephf))\n",
    "print(\"  Mean BB Energy (Estimated)= %.2e [Me %.2f]\" %(ebbmedtacmean,e2Me(ebbmedtacmean)))\n",
    "print(\"    %s: %d traces, %.2e +- 10^%.2f [J]\" %(labelbb,len(keepbb), ebbmedtacmean, ebbmedtacmeanerr10))\n",
    "print(\"    %s: %d traces, %.2e +- 10^%.2f [J]\" %(labelhf,len(keephf), ehfmedtacmean, ehfmedtacmeanerr10))\n",
    "ebbcorrmedtacmean,keepbb=gmeanCut(ebbcorrmedtac,cutoff=cutoff)\n",
    "ehfcorrmedtacmean,keephf=gmeanCut(ehfcorrmedtac,cutoff=cutoff)\n",
    "ebbcorrmedtacmeanerr10=np.std(np.log10(keepbb))\n",
    "ehfcorrmedtacmeanerr10=np.std(np.log10(keephf))\n",
    "print(\"  Mean BB Energy (FM corrected) = %.2e [Me %.2f]\" %(ebbcorrmedtacmean,e2Me(ebbcorrmedtacmean)))\n",
    "print(\"    %s: %d traces, %.2e +- 10^%.2f [J]\" %(labelbb,len(keepbb), ebbcorrmedtacmean, ebbcorrmedtacmeanerr10))\n",
    "print(\"    %s: %d traces, %.2e +- 10^%.2f [J]\" %(labelhf,len(keephf), ehfcorrmedtacmean, ehfcorrmedtacmeanerr10))\n",
    "\n",
    "print(\"From Per-Station Tacer: ---------------------\")\n",
    "ebbpertacmean,keepbb=gmeanCut(ebbpertac,cutoff=cutoff)\n",
    "ehfpertacmean,keephf=gmeanCut(ehfpertac,cutoff=cutoff)\n",
    "ebbpertacmeanerr10=np.std(np.log10(keepbb))\n",
    "ehfpertacmeanerr10=np.std(np.log10(keephf))\n",
    "print(\"  Mean BB Energy (Estimated)= %.2e [Me %.2f]\" %(ebbpertacmean,e2Me(ebbpertacmean)))\n",
    "print(\"    %s: %d traces, %.2e +- 10^%.2f [J]\" %(labelbb,len(keepbb), ebbpertacmean, ebbpertacmeanerr10))\n",
    "print(\"    %s: %d traces, %.2e +- 10^%.2f [J]\" %(labelhf,len(keephf), ehfpertacmean, ehfpertacmeanerr10))\n",
    "ebbcorrpertacmean,keepbb=gmeanCut(ebbcorrpertac,cutoff=cutoff)\n",
    "ehfcorrpertacmean,keephf=gmeanCut(ehfcorrpertac,cutoff=cutoff)\n",
    "ebbcorrpertacmeanerr10=np.std(np.log10(keepbb))\n",
    "ehfcorrpertacmeanerr10=np.std(np.log10(keephf))\n",
    "print(\"  Mean BB Energy (FM corrected) = %.2e [Me %.2f]\" %(ebbcorrpertacmean,e2Me(ebbcorrpertacmean)))\n",
    "print(\"    %s: %d traces, %.2e +- 10^%.2f [J]\" %(labelbb,len(keepbb), ebbcorrpertacmean, ebbcorrpertacmeanerr10))\n",
    "print(\"    %s: %d traces, %.2e +- 10^%.2f [J]\" %(labelhf,len(keephf), ehfcorrpertacmean, ehfcorrpertacmeanerr10))\n",
    "#print(\"Mean BB Energy (FM corrected) = %.2e [Me %.2f]\" %(emeanbbcorr,e2Me(emeanbbcorr)))\n",
    "\n",
    "# Saving information  ################################\n",
    "# create dataframe with Event based results\n",
    "results=pd.DataFrame({\n",
    "    \"eventname\":eventname,\"iteration\":Event.iter,   # name/run\n",
    "    \"etime\":Event.origin[1],\"elat\":Event.origin[0][0],\"elon\":Event.origin[0][1],\"edepth\":Event.origin[0][2], \"focmech\":[Event.focmech],   # Event\n",
    "    \"network\":Defaults.network, \"chan\":Defaults.chan, \"stationrange\":[Defaults.stationrange], \"nstats\":len(trdf), #stations \n",
    "    \"fbands\":[Defaults.waveparams[0]], \"pwindow\":[Defaults.waveparams[1]],  # wave params\n",
    "    \"eventdir\":df.eventdir, \"modtime\":UTCDateTime(),      # where and when processed\n",
    "    \"cutoff\":Defaults.cutoff, \"ttimes\":[ttimes],  # Results (and below)\n",
    "    \"ebbmedtacmean\":ebbmedtacmean, \"STD10(medtac)\":ebbmedtacmeanerr10, \"Me(medtac)\":e2Me(ebbmedtacmean), \"ehfmedtacmean\":ehfmedtacmean, \"STD10(hfmedtac)\":ehfmedtacmeanerr10,\n",
    "    \"ebbcorrmedtacmean\":ebbcorrmedtacmean, \"STD10(corr)\":ebbcorrmedtacmeanerr10, \"Me(corr)\":e2Me(ebbcorrmedtacmean), \"ehfcorrmedtacmean\":ehfcorrmedtacmean, \"STD10(hfcorr)\":ehfcorrmedtacmeanerr10,\n",
    "    \"ebbpertacmean\":ebbpertacmean, \"STD10(per)\":ebbpertacmeanerr10, \"Me(per)\":e2Me(ebbpertacmean), \"ehfpertacmean\":ehfpertacmean, \"STD10(hfper)\":ehfpertacmeanerr10,\n",
    "    \"ebbcorrpertacmean\":ebbcorrpertacmean, \"STD10(percorr)\":ebbcorrpertacmeanerr10, \"Me(corrper)\":e2Me(ebbcorrpertacmean), \"ehfcorrpertacmean\":ehfcorrpertacmean, \"STD10(hfpercorr)\":ehfcorrpertacmeanerr10\n",
    "    }, dtype=object)\n",
    "\n",
    "# time-series energy results\n",
    "Etimeseries=pd.concat([EBB,EHF,EBBSmooth,EHFSmooth,dEBBdtSmooth,dEHFdtSmooth,tacerBB,tacerHF],\n",
    "    keys=[\"EBB\",\"EHF\",\"EBBSmooth\",\"EHFSmooth\",\"dEBBdtSmooth\",\"dEHFdtSmooth\",\"tacerBB\",\"tacerHF\"])\n",
    "    # individual key can be extracted using (e.g. Energy.loc[\"EHF\"])\n",
    "\n",
    "# per-station information\n",
    "ETace=pd.DataFrame({'tacer':meds['time at max'],\n",
    "    'ebbmedtac':ebbmedtac, 'ehfmedtac':ehfmedtac,\n",
    "    'ebbcorrmedtac':ebbcorrmedtac, 'ehfcorrmedtac':ehfcorrmedtac,\n",
    "    'ebbpertac':ebbpertac, 'ehfpertac':ehfpertac,\n",
    "    'ebbcorrpertac':ebbcorrpertac, 'ehfcorrpertac':ehfcorrpertac\n",
    "    })\n",
    "ETace=ETace.reset_index(drop=True)\n",
    "StationTacer=pd.concat([trdf,Emd[[\"estFgP2\",\"FgP2\",\"est2corr\"]],ETace],axis=1)\n",
    "\n",
    "Event.Me=e2Me(ebbpertacmean)\n",
    "Event.ttime=ttimeHF\n",
    "\n",
    "print(\"Making figures\\n\")\n",
    "if not os.path.exists('figs'):   # create and go into pkls dir\n",
    "    os.mkdir('figs')\n",
    "os.chdir('figs')\n",
    "showPlots=False\n",
    "try:\n",
    "    if not showPlots:\n",
    "        mpl.use('Agg')  # needed to plot without using the X-session\n",
    "    # individual plot runs    \n",
    "    droppcts=[0.5,.25,0.1]\n",
    "    droptimes=Efluxplots(dEHFdtSmooth, trdf, Event=Event, Defaults=Defaults, pcts=droppcts, show=showPlots)    \n",
    "    tacerplot(tacerHF,trdf,ttimes,meds,eventname,show=showPlots)\n",
    "    Edistplot(EBB,EHF,Emd,trdf,eventname,ttimeHF, prePtime=prePtime,show=showPlots,cutoff=cutoff)\n",
    "    Eazplot(EBB,EHF,Emd,trdf,eventname,ttimeHF, prePtime=prePtime,show=showPlots,cutoff=cutoff)\n",
    "    Ehistogram(EBB,EHF,Emd,eventname,ttimeHF, prePtime=prePtime,show=showPlots,cutoff=cutoff)\n",
    "    stationEmapPygmt(EBB,Event.origin[0],trdf,eventname,ttimeHF, prePtime=prePtime,cutoff=15,itername=Event.iter,show=showPlots)\n",
    "    mpl.pyplot.close('all')  # they don't close themselves\n",
    "except:\n",
    "    print(\"ERROR: Plotting Results for \"+eventname) # test \n",
    "\n",
    "os.chdir('..')\n",
    "\n",
    "results[\"Droptimes\"]=[droptimes]\n",
    "\n",
    "# save results to files\n",
    "try:\n",
    "    print(\"writing results\\n\")\n",
    "    # csv    \n",
    "    results.to_csv(\"Results_\"+eventname+\".csv\")\n",
    "    Etimeseries.to_csv(\"Etimeseries_\"+eventname+\".csv\")\n",
    "    StationTacer.to_csv(\"ETacer_\"+eventname+\".csv\") \n",
    "    # pkls \n",
    "    if not os.path.exists('pkls'):   # create and go into pkls dir\n",
    "        os.mkdir('pkls')\n",
    "    os.chdir('pkls')\n",
    "    results.to_pickle(\"Results_\"+eventname+\".pkl\")\n",
    "    Etimeseries.to_pickle(\"Etimeseries_\"+eventname+\".pkl\")\n",
    "    StationTacer.to_pickle(\"Etacer_\"+eventname+\".pkl\")\n",
    "    os.chdir('..')\n",
    "except:\n",
    "    print(\"ERROR: writing results for\"+eventname)\n",
    "\n",
    "\n",
    "os.chdir(origwd)  # go back to old directory"
   ]
  },
  {
   "cell_type": "code",
   "execution_count": null,
   "metadata": {},
   "outputs": [],
   "source": [
    "showPlots=True\n",
    "if not showPlots:\n",
    "    mpl.use('Agg')  # needed to plot without using the X-session\n",
    "# individual plot runs    \n",
    "droppcts=[0.5,.25,0.1]\n",
    "droptimes=Efluxplots(dEHFdtSmooth, trdf, Event=Event, Defaults=Defaults, pcts=droppcts, show=showPlots)    \n",
    "tacerplot(tacerHF,trdf,ttimes,meds,eventname,show=showPlots)\n",
    "Edistplot(EBB,EHF,Emd,trdf,eventname,ttimeHF, prePtime=prePtime,show=showPlots,cutoff=cutoff)\n",
    "Eazplot(EBB,EHF,Emd,trdf,eventname,ttimeHF, prePtime=prePtime,show=showPlots,cutoff=cutoff)\n",
    "Ehistogram(EBB,EHF,Emd,eventname,ttimeHF, prePtime=prePtime,show=showPlots,cutoff=cutoff)\n",
    "stationEmapPygmt(EBB,Event.origin[0],trdf,eventname,ttimeHF, prePtime=prePtime,cutoff=15,itername=Event.iter,show=showPlots)\n",
    "mpl.pyplot.close('all')  # they don't close themselves\n",
    "  "
   ]
  },
  {
   "cell_type": "code",
   "execution_count": null,
   "metadata": {},
   "outputs": [],
   "source": [
    "from obspy.clients.fdsn import Client\n",
    "from obspy import UTCDateTime\n",
    "rs = Client('RASPISHAKE')\n",
    "\n",
    "start = UTCDateTime(2022, 6, 7, 0, 0, 0)\n",
    "end = UTCDateTime(2022, 6, 7, 0, 2, 0)\n",
    "\n",
    "stn = 'R991C'            # Zhigang's\n",
    "inv = rs.get_stations(network='AM', station=stn, level='RESP')\n",
    "\n",
    "stream = rs.get_waveforms('AM', stn, '00', 'EHZ', start, end)\n",
    "stream.attach_response(inv)\n",
    "\n",
    "resp_removed = stream.remove_response()"
   ]
  },
  {
   "cell_type": "code",
   "execution_count": null,
   "metadata": {},
   "outputs": [],
   "source": []
  },
  {
   "cell_type": "code",
   "execution_count": null,
   "metadata": {},
   "outputs": [],
   "source": [
    "stream[0].plot();"
   ]
  },
  {
   "cell_type": "code",
   "execution_count": null,
   "metadata": {},
   "outputs": [],
   "source": [
    "print(stream[0])\n"
   ]
  },
  {
   "cell_type": "code",
   "execution_count": null,
   "metadata": {},
   "outputs": [],
   "source": []
  }
 ],
 "metadata": {
  "kernelspec": {
   "display_name": "leah_rtergpy",
   "language": "python",
   "name": "leah_rtergpy"
  },
  "language_info": {
   "codemirror_mode": {
    "name": "ipython",
    "version": 3
   },
   "file_extension": ".py",
   "mimetype": "text/x-python",
   "name": "python",
   "nbconvert_exporter": "python",
   "pygments_lexer": "ipython3",
   "version": "3.9.12"
  }
 },
 "nbformat": 4,
 "nbformat_minor": 4
}
