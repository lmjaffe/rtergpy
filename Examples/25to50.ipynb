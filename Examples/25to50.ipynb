{
 "cells": [
  {
   "cell_type": "code",
   "execution_count": null,
   "id": "d5e3feaf",
   "metadata": {},
   "outputs": [],
   "source": [
    "from rtergpy.run import defaults, event, etime2name, src2ergs\n",
    "from obspy import UTCDateTime\n",
    "import pandas as pd\n",
    "\n",
    "Defaults=defaults()\n",
    "Event=event()\n",
    "#Defaults.src='IRIS'\n",
    "Defaults.src='RASPISHAKE'\n",
    "Event.newData=False # True is default\n",
    "Event.ecount='00'\n",
    "edateold=\"\"\n",
    "# events older than available in NEIC\n",
    "CMTS=pd.read_csv('CMTS_4_RS.txt', sep='\\s+', comment=\"#\")  # any amount of whitespace\n",
    "#CMTS=pd.read_csv('temp.txt', sep='\\s+', comment=\"#\")  # any amount of whitespace\n",
    "for index, EQ in CMTS.iterrows():\n",
    "    eloc = [EQ.LAT,EQ.LONG,EQ.DEPTH] \n",
    "    year,mo,dd = EQ.DATE.split('/')\n",
    "    hh,mn,sec = EQ.TIME.split(':')\n",
    "    etime=(UTCDateTime(int(year),int(mo),int(dd),int(hh),int(mn),float(sec)))\n",
    "    # iterate ecount\n",
    "    if EQ.DATE == edateold:\n",
    "        Event.ecount=str(int(Event.ecount)+1).zfill(2)\n",
    "    else:\n",
    "        Event.ecount='00'\n",
    "    edateold=EQ.DATE\n",
    "    Event.eventname=etime2name(etime,ecount=Event.ecount)\n",
    "    Event.origin=[eloc,etime]\n",
    "    Event.focmech=[EQ.STK, EQ.DP, EQ.RKE] # phi,delta,lmbda\n",
    "\n",
    "    print(\"\\n\\n\"+Event.eventname+\" ===============================\")\n",
    "    try:\n",
    "    src2ergs(Defaults=Defaults,Event=Event)  # need to export run output in a coherent way\n",
    "    except:\n",
    "        print(\"ERROR: running on \"+Event.eventname+\" failed!!!!\\n\\n\")\n"
   ]
  }
 ],
 "metadata": {
  "kernelspec": {
   "display_name": "rtergpy",
   "language": "python",
   "name": "rtergpy"
  },
  "language_info": {
   "codemirror_mode": {
    "name": "ipython",
    "version": 3
   },
   "file_extension": ".py",
   "mimetype": "text/x-python",
   "name": "python",
   "nbconvert_exporter": "python",
   "pygments_lexer": "ipython3",
   "version": "3.9.13"
  }
 },
 "nbformat": 4,
 "nbformat_minor": 5
}
