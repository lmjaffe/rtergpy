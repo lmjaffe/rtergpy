{
 "cells": [
  {
   "cell_type": "code",
   "execution_count": 1,
   "id": "bbcab2b5",
   "metadata": {},
   "outputs": [],
   "source": [
    "from rtergpy.run import defaults, event, etime2name, src2ergs\n",
    "from obspy import UTCDateTime\n"
   ]
  },
  {
   "cell_type": "code",
   "execution_count": 2,
   "id": "0d640891",
   "metadata": {},
   "outputs": [],
   "source": [
    "Defaults=defaults()\n",
    "Event=event()\n"
   ]
  },
  {
   "cell_type": "code",
   "execution_count": 3,
   "id": "3fae7282",
   "metadata": {},
   "outputs": [
    {
     "name": "stdout",
     "output_type": "stream",
     "text": [
      "IRIS\n"
     ]
    }
   ],
   "source": [
    "print(Defaults.src)"
   ]
  },
  {
   "cell_type": "code",
   "execution_count": 4,
   "id": "5657551b",
   "metadata": {},
   "outputs": [
    {
     "name": "stdout",
     "output_type": "stream",
     "text": [
      "2021081400\n"
     ]
    }
   ],
   "source": [
    "eloc = [18.56,-73.55,10] \n",
    "etime= UTCDateTime(2021,8,14,12,29,8) \n",
    "Event.ecount='00'\n",
    "#Event.newData=False   # use already downloaded data\n",
    "Event.newData=True\n",
    "Event.eventname=etime2name(etime,ecount=Event.ecount)\n",
    "Event.origin=[eloc,etime]\n",
    "Event.focmech=[266, 51, 34] # phi,delta,lmbda\n",
    "\n",
    "print(Event.eventname)\n"
   ]
  },
  {
   "cell_type": "code",
   "execution_count": 6,
   "id": "e995bcf7",
   "metadata": {},
   "outputs": [
    {
     "name": "stdout",
     "output_type": "stream",
     "text": [
      "Loading locally stored waveforms\n",
      "Working directory now:  /Users/leahjaffe/Desktop/Rtergpy/rtergpy/rtergpy/rterg_events/events/2021/2021081400/00\n"
     ]
    },
    {
     "name": "stderr",
     "output_type": "stream",
     "text": [
      "/Users/leahjaffe/opt/anaconda3/envs/rtergpy/lib/python3.9/site-packages/rtergpy/run.py:164: FutureWarning: The frame.append method is deprecated and will be removed from pandas in a future version. Use pandas.concat instead.\n",
      "  trdf=trdf.append(trstat2pd(tr),ignore_index=True)\n"
     ]
    },
    {
     "name": "stdout",
     "output_type": "stream",
     "text": [
      "Calculating Energy growth with time \n",
      "Running fband [0.00333333, 2.0] Hz:\n"
     ]
    },
    {
     "name": "stderr",
     "output_type": "stream",
     "text": [
      "100%|██████████████████████████████████████████████████████████████████████████████████████████████████████████████████████| 39/39 [00:02<00:00, 16.10it/s]\n"
     ]
    },
    {
     "name": "stdout",
     "output_type": "stream",
     "text": [
      "Running fband [0.5, 2.0] Hz:\n"
     ]
    },
    {
     "name": "stderr",
     "output_type": "stream",
     "text": [
      "100%|██████████████████████████████████████████████████████████████████████████████████████████████████████████████████████| 39/39 [00:02<00:00, 16.35it/s]\n"
     ]
    },
    {
     "name": "stdout",
     "output_type": "stream",
     "text": [
      "Length EBB and EHF 360 360\n",
      "Calculating TACER Values\n"
     ]
    },
    {
     "name": "stderr",
     "output_type": "stream",
     "text": [
      "100%|██████████████████████████████████████████████████████████████████████████████████████████████████████████████████████| 39/39 [00:01<00:00, 27.91it/s]\n",
      "100%|██████████████████████████████████████████████████████████████████████████████████████████████████████████████████████| 39/39 [00:01<00:00, 27.50it/s]\n"
     ]
    },
    {
     "name": "stdout",
     "output_type": "stream",
     "text": [
      "Median Tacer time = 29.0 -/+ 25.5/36.0 s (25/75th percentile)\n",
      "From Median Tacer: --------------------------\n",
      "  Mean BB Energy (Estimated)= 6.78e+15 [Me 7.65]\n",
      "    1/300 - 2 Hz: 36 traces, 6.78e+15 +- 10^0.27 [J]\n",
      "    1/2 - 2 Hz: 36 traces, 6.07e+13 +- 10^0.39 [J]\n",
      "  Mean BB Energy (FM corrected) = 1.13e+16 [Me 7.80]\n",
      "    1/300 - 2 Hz: 35 traces, 1.13e+16 +- 10^0.32 [J]\n",
      "    1/2 - 2 Hz: 36 traces, 1.11e+14 +- 10^0.39 [J]\n",
      "From Per-Station Tacer: ---------------------\n",
      "  Mean BB Energy (Estimated)= 6.57e+15 [Me 7.64]\n",
      "    1/300 - 2 Hz: 35 traces, 6.57e+15 +- 10^0.29 [J]\n",
      "    1/2 - 2 Hz: 35 traces, 6.23e+13 +- 10^0.41 [J]\n",
      "  Mean BB Energy (FM corrected) = 1.14e+16 [Me 7.80]\n",
      "    1/300 - 2 Hz: 35 traces, 1.14e+16 +- 10^0.35 [J]\n",
      "    1/2 - 2 Hz: 36 traces, 1.21e+14 +- 10^0.43 [J]\n",
      "Making figures\n",
      "\n",
      "ERROR: plotting results for 2021081400\n",
      "writing results\n",
      "\n"
     ]
    }
   ],
   "source": [
    "Event.newData=False\n",
    "src2ergs(Defaults=Defaults,Event=Event)"
   ]
  },
  {
   "cell_type": "code",
   "execution_count": null,
   "id": "02a856a6",
   "metadata": {},
   "outputs": [],
   "source": []
  }
 ],
 "metadata": {
  "kernelspec": {
   "display_name": "rtergpy",
   "language": "python",
   "name": "rtergpy"
  },
  "language_info": {
   "codemirror_mode": {
    "name": "ipython",
    "version": 3
   },
   "file_extension": ".py",
   "mimetype": "text/x-python",
   "name": "python",
   "nbconvert_exporter": "python",
   "pygments_lexer": "ipython3",
   "version": "3.9.12"
  }
 },
 "nbformat": 4,
 "nbformat_minor": 5
}
